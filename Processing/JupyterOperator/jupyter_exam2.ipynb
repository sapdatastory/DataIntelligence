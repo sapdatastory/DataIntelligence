{
 "cells": [
  {
   "cell_type": "markdown",
   "metadata": {},
   "source": [
    "# Jupyter operator"
   ]
  },
  {
   "cell_type": "code",
   "execution_count": 1,
   "metadata": {
    "tags": [
     "productive"
    ]
   },
   "outputs": [],
   "source": [
    "# Example Python script to perform training on input data & generate Metrics & Model Blob\n",
    "def on_input(msg):\n",
    "    \n",
    "    # Obtain data\n",
    "    from io import StringIO\n",
    "    import pandas as pd\n",
    "    \n",
    "    #df_data = pd.read_csv(StringIO(msg), sep=\";\")\n",
    "    df_data = pd.read_csv(StringIO(msg.body.decode(\"utf-8\")), sep=\";\")\n",
    "    \n",
    "    # Get predictor and target\n",
    "    x = df_data[[\"HALFMARATHON_MINUTES\"]]\n",
    "    y_true = df_data[\"MARATHON_MINUTES\"]\n",
    "\n",
    "    # Train regression\n",
    "    from sklearn.linear_model import LinearRegression\n",
    "    lm = LinearRegression()\n",
    "    lm.fit(x, y_true)\n",
    "    \n",
    "    # Model quality\n",
    "    import numpy as np\n",
    "    y_pred = lm.predict(x)\n",
    "    mse = np.mean((y_pred - y_true)**2)\n",
    "    rmse = np.sqrt(mse)\n",
    "    rmse = round(rmse, 2)\n",
    "    \n",
    "    # to send metrics to the Submit Metrics operator, create a Python dictionary of key-value pairs\n",
    "    metrics_dict = {\"RMSE\": str(rmse), \"n\": str(len(df_data))}\n",
    "    \n",
    "    # send the metrics to the output port - Submit Metrics operator will use this to persist the metrics   \n",
    "    #api.send(\"metrics\", api.Message(metrics_dict))\n",
    "    api.send(\"output1\", Message(metrics_dict))\n",
    "    \n",
    "    # create & send the model blob to the output port - Artifact Producer operator will use this to persist the model and create an artifact ID\n",
    "    #import pickle\n",
    "    #model_blob = pickle.dumps(lm)\n",
    "    #api.send(\"modelBlob\", model_blob)\n",
    "    \n",
    "api.set_port_callback(\"input1\", on_input)\n"
   ]
  },
  {
   "cell_type": "markdown",
   "metadata": {},
   "source": [
    "In this notebook you can find some basic examples on how to use the operator's predefined functions to interact with incoming data and to output data. \n",
    "You can also check the documentation for all examples at the [end of this notebook](#Predefined-Functions-Documentation)."
   ]
  },
  {
   "cell_type": "markdown",
   "metadata": {},
   "source": [
    "Tip: You can access the documentation of a function at any time inside a Jupyter notebook by pressing `Shift-Tab`on top of the function name (inside a code cell) for a short description or `Shift-Tab-Tab` for a complete description."
   ]
  },
  {
   "cell_type": "markdown",
   "metadata": {},
   "source": [
    "# Writing data to an output port\n",
    "\n",
    "You can send data to an output port by calling the function `api.send`."
   ]
  },
  {
   "cell_type": "markdown",
   "metadata": {},
   "source": [
    "By executing the below code the operator will write the `data` to the output port `out`. If the port is connected to a terminal, you could see the data on its interface."
   ]
  },
  {
   "cell_type": "code",
   "execution_count": null,
   "metadata": {},
   "outputs": [],
   "source": [
    "data='test'\n",
    "api.send('out', data)"
   ]
  },
  {
   "cell_type": "markdown",
   "metadata": {},
   "source": [
    "Note that the type of output data should be compatible with the output port type, in this case, the type `string`."
   ]
  },
  {
   "cell_type": "markdown",
   "metadata": {},
   "source": [
    "# Dealing with input data\n",
    "\n",
    "Data processing is done with callbacks due to the Modeler's asynchronous nature. For instance, you can set a callback \n",
    "to be called when new data is received in the registered port. See below some examples of how to do that."
   ]
  },
  {
   "cell_type": "markdown",
   "metadata": {},
   "source": [
    "To try out the use of callbacks, execute the cell below to define a simple function that prints the received data to the cell output and then writes the data to the output port `out`."
   ]
  },
  {
   "cell_type": "code",
   "execution_count": null,
   "metadata": {},
   "outputs": [],
   "source": [
    "def on_data_in(value):\n",
    "    print(value)\n",
    "    api.send('out', value)"
   ]
  },
  {
   "cell_type": "markdown",
   "metadata": {},
   "source": [
    "## Trying out a callback\n",
    "The function `api.try_port_callback` executes a callback once with the data from the specified port. Note that this function is available only in interactive mode."
   ]
  },
  {
   "cell_type": "markdown",
   "metadata": {},
   "source": [
    "By executing the cell below one input data will be consumed from the input port `in` and fed to the `on_data_in` function. You should see the data received printed to the cell output and the operator should write the data to the output port `out`. "
   ]
  },
  {
   "cell_type": "code",
   "execution_count": null,
   "metadata": {},
   "outputs": [],
   "source": [
    "api.try_port_callback('in', on_data_in)"
   ]
  },
  {
   "cell_type": "markdown",
   "metadata": {},
   "source": [
    "If an exception happens during the execution of `api.try_port_callback`, the exception is thrown in the notebook kernel and the graph state won't be affected. The exception and the stack trace are printed to the last active cell output."
   ]
  },
  {
   "cell_type": "markdown",
   "metadata": {},
   "source": [
    "## Reading data indefinitely with api.set_port_callback\n",
    "Callbacks can be registered by using the function `api.set_port_callback`. As a result, the function is called when new data is received in the specified port(s)."
   ]
  },
  {
   "cell_type": "markdown",
   "metadata": {},
   "source": [
    "By executing the code below, the `on_data_in` callback will be registered for the `in` input port. Thus, `on_data_in` will be executed for new data available."
   ]
  },
  {
   "cell_type": "code",
   "execution_count": null,
   "metadata": {},
   "outputs": [],
   "source": [
    "api.set_port_callback('in', on_data_in)"
   ]
  },
  {
   "cell_type": "markdown",
   "metadata": {},
   "source": [
    "If an exception happens during the execution of the callback registered with the `api.set_port_callback` function, the exception is logged into the Python subengine and the graph fails."
   ]
  },
  {
   "cell_type": "markdown",
   "metadata": {},
   "source": [
    "## Unregistering a callback\n",
    "To unregister a callback so that it is no longer executed, you can use the function `api.remove_port_callback` with the function as a parameter."
   ]
  },
  {
   "cell_type": "code",
   "execution_count": null,
   "metadata": {},
   "outputs": [],
   "source": [
    "api.remove_port_callback(on_data_in)"
   ]
  },
  {
   "cell_type": "markdown",
   "metadata": {},
   "source": [
    "## Registering callbacks to multiple ports"
   ]
  },
  {
   "cell_type": "markdown",
   "metadata": {},
   "source": [
    "A callback can be registered to multiple ports. In this case, the callback is executed when data is available in all specified ports."
   ]
  },
  {
   "cell_type": "code",
   "execution_count": null,
   "metadata": {},
   "outputs": [],
   "source": [
    "def on_multiple_inputs(input1, input2):\n",
    "    pass\n",
    "\n",
    "# assuming that there are two input ports: 'in1', 'in2'\n",
    "api.set_port_callback(['in1', 'in2'], on_multiple_inputs)"
   ]
  },
  {
   "cell_type": "markdown",
   "metadata": {},
   "source": [
    "# Running in Productive mode\n",
    "\n",
    "Jupyter operators can run in 'productive' mode so that no user interaction is required to run the cells. This mode can be selected in the operator settings in the Modeler UI, toggling the configuration parameter 'Productive' from `False` to `True`.\n",
    "\n",
    "When in productive mode, cells tagged as productive are executed with no user interaction. In the Jupyter notebook UI, you can find a tab on top of each cell. To tag a cell, you can type the desired tag in the tab's textbox, in this case, `productive`, and click on 'Add tag' button."
   ]
  },
  {
   "cell_type": "code",
   "execution_count": null,
   "metadata": {},
   "outputs": [],
   "source": [
    "def my_productive_code(value):\n",
    "    api.send('out', value)\n",
    "    \n",
    "api.set_port_callback('in', my_productive_code)"
   ]
  },
  {
   "cell_type": "markdown",
   "metadata": {},
   "source": [
    "Notes:\n",
    "- If the productive code references some other code in a cell that was not marked as productive with the tag `productive`, a runtime error happens because the operator ignores non-productive code in this mode, making the graph fail. Therefore you should mark all relevant code cells as `productive`.\n",
    "- When running in productive mode, it is not possible to access the Jupyter notebook UI to interact with the cells.\n",
    "- It is not possible to change the execution mode at runtime. To alter it, you must stop the graph, set the 'Productive' configuration to the desired value, and then start the graph again.\n"
   ]
  },
  {
   "cell_type": "markdown",
   "metadata": {},
   "source": [
    "# Accessing the configuration object\n",
    "\n",
    "You can get the configuration object set in the operator configuration's UI in the Modeler by calling `api.get_config`. For example, to get the location of the current notebook, you can access the \"notebookPath\" key from the config object."
   ]
  },
  {
   "cell_type": "code",
   "execution_count": null,
   "metadata": {},
   "outputs": [],
   "source": [
    "config = api.get_config()\n",
    "config[\"notebookFilePath\"]"
   ]
  },
  {
   "cell_type": "markdown",
   "metadata": {},
   "source": [
    "# Installing Python modules\n",
    "Python modules can be installed by using the api.add_dependency function.\n",
    "\n",
    "In the example below, we use `api.add_dependency` to install the `h5py` module."
   ]
  },
  {
   "cell_type": "code",
   "execution_count": null,
   "metadata": {},
   "outputs": [],
   "source": [
    "api.add_dependency('h5py')"
   ]
  },
  {
   "cell_type": "markdown",
   "metadata": {},
   "source": [
    "# Working with messages"
   ]
  },
  {
   "cell_type": "markdown",
   "metadata": {},
   "source": [
    "You can access the Message type by calling `Message`. The body and attributes of a message object `msg` can be accessed as `msg.body` and `msg.attributes`, respectively."
   ]
  },
  {
   "cell_type": "markdown",
   "metadata": {},
   "source": [
    "#### Message(body, attributes)    \n",
    "    Args:\n",
    "        *body (object): body of the message\n",
    "        attributes(dict(str, object) | None): attributes of the message"
   ]
  },
  {
   "cell_type": "code",
   "execution_count": null,
   "metadata": {},
   "outputs": [],
   "source": [
    "new_message = Message(None, {\"debug\": True, \"config\": {}})\n",
    "print(new_message.body)\n",
    "print(new_message.attributes)"
   ]
  },
  {
   "cell_type": "markdown",
   "metadata": {},
   "source": [
    "# Predefined Functions Documentation"
   ]
  },
  {
   "cell_type": "markdown",
   "metadata": {},
   "source": [
    "- [api.send(port, data)](#api.send(port,-data))\n",
    "- [api.get_config()](#api.get_config())\n",
    "- [api.add_dependency(package_name)](#api.add_dependency(package_name)\n",
    ")\n",
    "- [api.try_port_callback(ports, callback)](#api.try_port_callback(ports,-callback))\n",
    "- [api.set_port_callback(ports, callback)](#api.set_port_callback(ports,-callback))\n",
    "- [api.remove_port_callback(callback)](#api.remove_port_callback(callback))"
   ]
  },
  {
   "cell_type": "markdown",
   "metadata": {},
   "source": [
    "#### api.send(port, data)\n",
    "\n",
    "    Writes the data to the specified operator output port. Be careful with the correspondence between the Python data object and the Modeler port type.\n",
    "    Args:\n",
    "        port (str): operator's output port name\n",
    "        data: data object to send"
   ]
  },
  {
   "cell_type": "markdown",
   "metadata": {},
   "source": [
    "#### api.get_config()\n",
    "\n",
    "    Returns the Jupyter operator's configuration object\n",
    "    Args:\n",
    "        None\n",
    "    Returns:\n",
    "        config(dict): configuration object"
   ]
  },
  {
   "cell_type": "markdown",
   "metadata": {},
   "source": [
    "#### api.add_dependency(package_name)\n",
    "\n",
    "    This method tries to install a Python package using pip. If the installation fails, an exception is raised.\n",
    "\n",
    "    Args:\n",
    "        package_name (str): Name of the package to be installed with pip."
   ]
  },
  {
   "cell_type": "markdown",
   "metadata": {},
   "source": [
    "#### api.try_port_callback(ports, callback)\n",
    "\n",
    "    This method executes the callback once with the data retrieved from the specified input port. The callback is called only when there are messages available in all input ports.\n",
    "    * Note that, this function is available only in interactive mode.\n",
    "    \n",
    "    Args:\n",
    "        ports (str|list[str]): input ports to be tested with the callback. `ports` can be a list of strings with the name of each port to be associated, or a string if you want to associate the callback with a single port.\n",
    "        callback (func[...]): a callback function with the same number of arguments as elements in `ports`. The arguments are passed to `callback` in the same order as their corresponding ports in the `ports` argument. "
   ]
  },
  {
   "cell_type": "markdown",
   "metadata": {},
   "source": [
    "#### api.set_port_callback(ports, callback)\n",
    "    This method associates the input ports to the callback. The callback is called only when there are messages available in all input ports. If this method is called multiple times for the same group of ports, then the previous callback is overwritten by the provided one.\n",
    "    Different ports group cannot overlap. For example, a port can be only associated with one callback at a time.\n",
    "    \n",
    "    Args:\n",
    "        ports (str|list[str]): input ports to be associated with the callback. `ports` can be a list of strings with the name of each port to be associated, or a string if you want to associate the callback with a single port.\n",
    "        callback (func[...]): a callback function with the same number of arguments as elements in `ports` or a variable-length argument. Also the arguments are passed to `callback` in the same order of their corresponding ports in the `ports` argument.   "
   ]
  },
  {
   "cell_type": "markdown",
   "metadata": {},
   "source": [
    "#### api.remove_port_callback(callback)\n",
    "    Unregister the callback function. If the function is not registered, the method exits quietly.\n",
    "\n",
    "    Args:\n",
    "        callback (func[...]): callback function to be removed."
   ]
  }
 ],
 "metadata": {
  "celltoolbar": "Tags",
  "kernelspec": {
   "display_name": "Python 3",
   "language": "python",
   "name": "python3"
  },
  "language_info": {
   "codemirror_mode": {
    "name": "ipython",
    "version": 3
   },
   "file_extension": ".py",
   "mimetype": "text/x-python",
   "name": "python",
   "nbconvert_exporter": "python",
   "pygments_lexer": "ipython3",
   "version": "3.6.7"
  }
 },
 "nbformat": 4,
 "nbformat_minor": 2
}
