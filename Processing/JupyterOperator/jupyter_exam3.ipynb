{
 "cells": [
  {
   "cell_type": "markdown",
   "metadata": {},
   "source": [
    "# Jupyter operator"
   ]
  },
  {
   "cell_type": "code",
   "execution_count": 1,
   "metadata": {},
   "outputs": [
    {
     "name": "stdout",
     "output_type": "stream",
     "text": [
      "2.6.21012600\n"
     ]
    }
   ],
   "source": [
    "import hana_ml\n",
    "print(hana_ml.__version__)"
   ]
  },
  {
   "cell_type": "code",
   "execution_count": 2,
   "metadata": {},
   "outputs": [],
   "source": [
    "import hana_ml.dataframe as dataframe\n",
    "from notebook_hana_connector.notebook_hana_connector import NotebookConnectionContext\n",
    "conn = NotebookConnectionContext(connectionId = 'zHAN')"
   ]
  },
  {
   "cell_type": "code",
   "execution_count": 3,
   "metadata": {},
   "outputs": [],
   "source": [
    "df_remote = conn.table(\"VEHICLECOUNT\")\n",
    "df_segments = df_remote.select(\"LOCATION\").distinct().sort(\"LOCATION\", desc = False).collect()"
   ]
  },
  {
   "cell_type": "code",
   "execution_count": 4,
   "metadata": {},
   "outputs": [
    {
     "data": {
      "text/html": [
       "<div>\n",
       "<style scoped>\n",
       "    .dataframe tbody tr th:only-of-type {\n",
       "        vertical-align: middle;\n",
       "    }\n",
       "\n",
       "    .dataframe tbody tr th {\n",
       "        vertical-align: top;\n",
       "    }\n",
       "\n",
       "    .dataframe thead th {\n",
       "        text-align: right;\n",
       "    }\n",
       "</style>\n",
       "<table border=\"1\" class=\"dataframe\">\n",
       "  <thead>\n",
       "    <tr style=\"text-align: right;\">\n",
       "      <th></th>\n",
       "      <th>LOCATION</th>\n",
       "    </tr>\n",
       "  </thead>\n",
       "  <tbody>\n",
       "    <tr>\n",
       "      <th>0</th>\n",
       "      <td>Z001</td>\n",
       "    </tr>\n",
       "    <tr>\n",
       "      <th>1</th>\n",
       "      <td>Z006</td>\n",
       "    </tr>\n",
       "    <tr>\n",
       "      <th>2</th>\n",
       "      <td>Z012</td>\n",
       "    </tr>\n",
       "    <tr>\n",
       "      <th>3</th>\n",
       "      <td>Z087</td>\n",
       "    </tr>\n",
       "  </tbody>\n",
       "</table>\n",
       "</div>"
      ],
      "text/plain": [
       "  LOCATION\n",
       "0     Z001\n",
       "1     Z006\n",
       "2     Z012\n",
       "3     Z087"
      ]
     },
     "execution_count": 4,
     "metadata": {},
     "output_type": "execute_result"
    }
   ],
   "source": [
    "df_segments"
   ]
  },
  {
   "cell_type": "code",
   "execution_count": 4,
   "metadata": {},
   "outputs": [],
   "source": [
    "from hdbcli import dbapi\n",
    "\n",
    "dbapi_cursor = conn.connection.cursor()\n",
    "if conn.sql(\"SELECT TABLE_OID FROM SYS.TABLES WHERE TABLE_NAME = 'VEHICLECOUNT_FORECASTS_SEGMENTED';\").count() > 0:\n",
    "   dbapi_cursor.execute(\"\"\"TRUNCATE TABLE VEHICLECOUNT_FORECASTS_SEGMENTED;\"\"\")"
   ]
  },
  {
   "cell_type": "code",
   "execution_count": 5,
   "metadata": {},
   "outputs": [],
   "source": [
    "import pandas as pd\n",
    "\n",
    "columns = [\"SEGMENT\", \"MAPE\"]\n",
    "df_allmapes = pd.DataFrame(columns=columns)"
   ]
  },
  {
   "cell_type": "code",
   "execution_count": 6,
   "metadata": {},
   "outputs": [],
   "source": [
    "from hana_ml.algorithms.apl.time_series import AutoTimeSeries\n",
    "\n",
    "for index, row in df_segments.iterrows(): \n",
    "   \n",
    "    # Get raw data of each country\n",
    "    segment = row['LOCATION']\n",
    "    df_remote_segment = conn.sql(\"SELECT DATE, VEHICLECOUNT FROM VEHICLECOUNT WHERE LOCATION = '\" + segment + \"'\")\n",
    "    \n",
    "    # Sort data ascending, a requirement of the Automated Predictive Library\n",
    "    df_remote_segment = df_remote_segment.sort(\"DATE\", desc = False)\n",
    "    \n",
    "    # Forecast\n",
    "    tsapl = AutoTimeSeries(time_column_name = 'DATE', target = 'VEHICLECOUNT', horizon = 7)\n",
    "    tsapl.fit(data = df_remote_segment)\n",
    "    df_remote_aplforecast = tsapl.forecast(forecast_length = 7)\n",
    "    df_remote_aplforecast = df_remote_aplforecast.select('*', (\"'\" + segment + \"'\", 'SEGMENT'))\n",
    "    df_remote_aplforecast = df_remote_aplforecast.cast(\"SEGMENT\", \"NVARCHAR(100)\") # Needed to ensure future segments with longer names can be stored\n",
    "    df_remote_aplforecast.save(\"VEHICLECOUNT_FORECASTS_SEGMENTED\", append = True)\n",
    "\n",
    "    # Track model quality\n",
    "    ts_mape = tsapl.get_performance_metrics()['MAPE'][0]\n",
    "    df_allmapes = df_allmapes.append({\"SEGMENT\": segment, \"MAPE\": ts_mape}, ignore_index=True)"
   ]
  },
  {
   "cell_type": "code",
   "execution_count": 8,
   "metadata": {},
   "outputs": [
    {
     "data": {
      "text/html": [
       "<div>\n",
       "<style scoped>\n",
       "    .dataframe tbody tr th:only-of-type {\n",
       "        vertical-align: middle;\n",
       "    }\n",
       "\n",
       "    .dataframe tbody tr th {\n",
       "        vertical-align: top;\n",
       "    }\n",
       "\n",
       "    .dataframe thead th {\n",
       "        text-align: right;\n",
       "    }\n",
       "</style>\n",
       "<table border=\"1\" class=\"dataframe\">\n",
       "  <thead>\n",
       "    <tr style=\"text-align: right;\">\n",
       "      <th></th>\n",
       "      <th>SEGMENT</th>\n",
       "      <th>MAPE</th>\n",
       "    </tr>\n",
       "  </thead>\n",
       "  <tbody>\n",
       "    <tr>\n",
       "      <th>0</th>\n",
       "      <td>Z001</td>\n",
       "      <td>0.092671</td>\n",
       "    </tr>\n",
       "    <tr>\n",
       "      <th>1</th>\n",
       "      <td>Z006</td>\n",
       "      <td>0.059372</td>\n",
       "    </tr>\n",
       "    <tr>\n",
       "      <th>2</th>\n",
       "      <td>Z012</td>\n",
       "      <td>0.064636</td>\n",
       "    </tr>\n",
       "    <tr>\n",
       "      <th>3</th>\n",
       "      <td>Z087</td>\n",
       "      <td>0.059643</td>\n",
       "    </tr>\n",
       "  </tbody>\n",
       "</table>\n",
       "</div>"
      ],
      "text/plain": [
       "  SEGMENT      MAPE\n",
       "0    Z001  0.092671\n",
       "1    Z006  0.059372\n",
       "2    Z012  0.064636\n",
       "3    Z087  0.059643"
      ]
     },
     "execution_count": 8,
     "metadata": {},
     "output_type": "execute_result"
    }
   ],
   "source": [
    "df_allmapes"
   ]
  },
  {
   "cell_type": "code",
   "execution_count": 9,
   "metadata": {},
   "outputs": [
    {
     "data": {
      "image/png": "[encoded data removed]",
      "text/plain": [
       "<Figure size 1080x360 with 1 Axes>"
      ]
     },
     "metadata": {
      "needs_background": "light"
     },
     "output_type": "display_data"
    }
   ],
   "source": [
    "%matplotlib inline\n",
    "import matplotlib.pyplot as plt\n",
    "\n",
    "df_remote = conn.sql(\"SELECT * FROM VEHICLECOUNT_FORECASTS_SEGMENTED WHERE SEGMENT ='Z001'\")\n",
    "ts_data = df_remote.collect()\n",
    "plt.figure(figsize=(15, 5))\n",
    "plt.plot(ts_data[\"ACTUAL\"], linewidth=1)\n",
    "plt.plot(ts_data[\"PREDICTED\"], linewidth=1)\n",
    "plt.fill_between( ts_data.index, ts_data[\"LOWER_INT_95PCT\"], ts_data[\"UPPER_INT_95PCT\"], color='b', alpha=.1);"
   ]
  },
  {
   "cell_type": "code",
   "execution_count": 7,
   "metadata": {},
   "outputs": [],
   "source": [
    "df_allmapes = df_allmapes.sort_values(by = 'MAPE')\n",
    "api.send(\"output2\", df_allmapes.to_json(orient = 'records'))"
   ]
  },
  {
   "cell_type": "code",
   "execution_count": null,
   "metadata": {},
   "outputs": [],
   "source": []
  },
  {
   "cell_type": "code",
   "execution_count": 8,
   "metadata": {},
   "outputs": [
    {
     "name": "stdout",
     "output_type": "stream",
     "text": [
      "2.6.21012600\n"
     ]
    }
   ],
   "source": [
    "import hana_ml\n",
    "print(hana_ml.__version__)\n",
    "\n",
    "import hana_ml.dataframe as dataframe\n",
    "from notebook_hana_connector.notebook_hana_connector import NotebookConnectionContext\n",
    "conn = NotebookConnectionContext(connectionId = 'zHAN')\n",
    "\n",
    "df_remote = conn.table(\"VEHICLECOUNT\")\n",
    "df_segments = df_remote.select(\"LOCATION\").distinct().sort(\"LOCATION\", desc = False).collect()\n",
    "\n",
    "\n",
    "from hdbcli import dbapi\n",
    "\n",
    "dbapi_cursor = conn.connection.cursor()\n",
    "if conn.sql(\"SELECT TABLE_OID FROM SYS.TABLES WHERE TABLE_NAME = 'VEHICLECOUNT_FORECASTS_SEGMENTED';\").count() > 0:\n",
    "   dbapi_cursor.execute(\"\"\"TRUNCATE TABLE VEHICLECOUNT_FORECASTS_SEGMENTED;\"\"\")\n",
    "\n",
    "\n",
    "import pandas as pd\n",
    "\n",
    "columns = [\"SEGMENT\", \"MAPE\"]\n",
    "df_allmapes = pd.DataFrame(columns=columns)\n",
    "\n",
    "\n",
    "\n",
    "from hana_ml.algorithms.apl.time_series import AutoTimeSeries\n",
    "\n",
    "for index, row in df_segments.iterrows(): \n",
    "\n",
    "    # Get raw data of each country\n",
    "    segment = row['LOCATION']\n",
    "    df_remote_segment = conn.sql(\"SELECT DATE, VEHICLECOUNT FROM VEHICLECOUNT WHERE LOCATION = '\" + segment + \"'\")\n",
    "\n",
    "    # Sort data ascending, a requirement of the Automated Predictive Library\n",
    "    df_remote_segment = df_remote_segment.sort(\"DATE\", desc = False)\n",
    "\n",
    "    # Forecast\n",
    "    tsapl = AutoTimeSeries(time_column_name = 'DATE', target = 'VEHICLECOUNT', horizon = 7)\n",
    "    tsapl.fit(data = df_remote_segment)\n",
    "    df_remote_aplforecast = tsapl.forecast(forecast_length = 7)\n",
    "    df_remote_aplforecast = df_remote_aplforecast.select('*', (\"'\" + segment + \"'\", 'SEGMENT'))\n",
    "    df_remote_aplforecast = df_remote_aplforecast.cast(\"SEGMENT\", \"NVARCHAR(100)\") # Needed to ensure future segments with longer names can be stored\n",
    "    df_remote_aplforecast.save(\"VEHICLECOUNT_FORECASTS_SEGMENTED\", append = True)\n",
    "\n",
    "    # Track model quality\n",
    "    ts_mape = tsapl.get_performance_metrics()['MAPE'][0]\n",
    "    df_allmapes = df_allmapes.append({\"SEGMENT\": segment, \"MAPE\": ts_mape}, ignore_index=True)\n",
    "\n",
    "\n",
    "df_allmapes = df_allmapes.sort_values(by = 'MAPE')\n",
    "api.send(\"output2\", df_allmapes.to_json(orient = 'records'))"
   ]
  },
  {
   "cell_type": "code",
   "execution_count": null,
   "metadata": {},
   "outputs": [],
   "source": []
  },
  {
   "cell_type": "code",
   "execution_count": 1,
   "metadata": {
    "tags": [
     "productive"
    ]
   },
   "outputs": [],
   "source": [
    "def on_input(data):\n",
    "\n",
    "    import hana_ml\n",
    "    print(hana_ml.__version__)\n",
    "\n",
    "    import hana_ml.dataframe as dataframe\n",
    "    from notebook_hana_connector.notebook_hana_connector import NotebookConnectionContext\n",
    "    conn = NotebookConnectionContext(connectionId = 'zHAN')\n",
    "\n",
    "    df_remote = conn.table(\"VEHICLECOUNT\")\n",
    "    df_segments = df_remote.select(\"LOCATION\").distinct().sort(\"LOCATION\", desc = False).collect()\n",
    "\n",
    "\n",
    "    from hdbcli import dbapi\n",
    "\n",
    "    dbapi_cursor = conn.connection.cursor()\n",
    "    if conn.sql(\"SELECT TABLE_OID FROM SYS.TABLES WHERE TABLE_NAME = 'VEHICLECOUNT_FORECASTS_SEGMENTED';\").count() > 0:\n",
    "       dbapi_cursor.execute(\"\"\"TRUNCATE TABLE VEHICLECOUNT_FORECASTS_SEGMENTED;\"\"\")\n",
    "\n",
    "\n",
    "    import pandas as pd\n",
    "\n",
    "    columns = [\"SEGMENT\", \"MAPE\"]\n",
    "    df_allmapes = pd.DataFrame(columns=columns)\n",
    "\n",
    "\n",
    "\n",
    "    from hana_ml.algorithms.apl.time_series import AutoTimeSeries\n",
    "\n",
    "    for index, row in df_segments.iterrows(): \n",
    "\n",
    "        # Get raw data of each country\n",
    "        segment = row['LOCATION']\n",
    "        df_remote_segment = conn.sql(\"SELECT DATE, VEHICLECOUNT FROM VEHICLECOUNT WHERE LOCATION = '\" + segment + \"'\")\n",
    "\n",
    "        # Sort data ascending, a requirement of the Automated Predictive Library\n",
    "        df_remote_segment = df_remote_segment.sort(\"DATE\", desc = False)\n",
    "\n",
    "        # Forecast\n",
    "        tsapl = AutoTimeSeries(time_column_name = 'DATE', target = 'VEHICLECOUNT', horizon = 7)\n",
    "        tsapl.fit(data = df_remote_segment)\n",
    "        df_remote_aplforecast = tsapl.forecast(forecast_length = 7)\n",
    "        df_remote_aplforecast = df_remote_aplforecast.select('*', (\"'\" + segment + \"'\", 'SEGMENT'))\n",
    "        df_remote_aplforecast = df_remote_aplforecast.cast(\"SEGMENT\", \"NVARCHAR(100)\") # Needed to ensure future segments with longer names can be stored\n",
    "        df_remote_aplforecast.save(\"VEHICLECOUNT_FORECASTS_SEGMENTED\", append = True)\n",
    "\n",
    "        # Track model quality\n",
    "        ts_mape = tsapl.get_performance_metrics()['MAPE'][0]\n",
    "        df_allmapes = df_allmapes.append({\"SEGMENT\": segment, \"MAPE\": ts_mape}, ignore_index=True)\n",
    "\n",
    "\n",
    "    df_allmapes = df_allmapes.sort_values(by = 'MAPE')\n",
    "    api.send(\"output2\", df_allmapes.to_json(orient = 'records'))\n",
    "\n",
    "api.set_port_callback(\"input1\", on_input)\n"
   ]
  },
  {
   "cell_type": "code",
   "execution_count": null,
   "metadata": {},
   "outputs": [],
   "source": []
  },
  {
   "cell_type": "markdown",
   "metadata": {},
   "source": [
    "In this notebook you can find some basic examples on how to use the operator's predefined functions to interact with incoming data and to output data. \n",
    "You can also check the documentation for all examples at the [end of this notebook](#Predefined-Functions-Documentation)."
   ]
  },
  {
   "cell_type": "markdown",
   "metadata": {},
   "source": [
    "Tip: You can access the documentation of a function at any time inside a Jupyter notebook by pressing `Shift-Tab`on top of the function name (inside a code cell) for a short description or `Shift-Tab-Tab` for a complete description."
   ]
  },
  {
   "cell_type": "markdown",
   "metadata": {},
   "source": [
    "# Writing data to an output port\n",
    "\n",
    "You can send data to an output port by calling the function `api.send`."
   ]
  },
  {
   "cell_type": "markdown",
   "metadata": {},
   "source": [
    "By executing the below code the operator will write the `data` to the output port `out`. If the port is connected to a terminal, you could see the data on its interface."
   ]
  },
  {
   "cell_type": "code",
   "execution_count": null,
   "metadata": {},
   "outputs": [],
   "source": [
    "data='test'\n",
    "api.send('out', data)"
   ]
  },
  {
   "cell_type": "markdown",
   "metadata": {},
   "source": [
    "Note that the type of output data should be compatible with the output port type, in this case, the type `string`."
   ]
  },
  {
   "cell_type": "markdown",
   "metadata": {},
   "source": [
    "# Dealing with input data\n",
    "\n",
    "Data processing is done with callbacks due to the Modeler's asynchronous nature. For instance, you can set a callback \n",
    "to be called when new data is received in the registered port. See below some examples of how to do that."
   ]
  },
  {
   "cell_type": "markdown",
   "metadata": {},
   "source": [
    "To try out the use of callbacks, execute the cell below to define a simple function that prints the received data to the cell output and then writes the data to the output port `out`."
   ]
  },
  {
   "cell_type": "code",
   "execution_count": null,
   "metadata": {},
   "outputs": [],
   "source": [
    "def on_data_in(value):\n",
    "    print(value)\n",
    "    api.send('out', value)"
   ]
  },
  {
   "cell_type": "markdown",
   "metadata": {},
   "source": [
    "## Trying out a callback\n",
    "The function `api.try_port_callback` executes a callback once with the data from the specified port. Note that this function is available only in interactive mode."
   ]
  },
  {
   "cell_type": "markdown",
   "metadata": {},
   "source": [
    "By executing the cell below one input data will be consumed from the input port `in` and fed to the `on_data_in` function. You should see the data received printed to the cell output and the operator should write the data to the output port `out`. "
   ]
  },
  {
   "cell_type": "code",
   "execution_count": null,
   "metadata": {},
   "outputs": [],
   "source": [
    "api.try_port_callback('in', on_data_in)"
   ]
  },
  {
   "cell_type": "markdown",
   "metadata": {},
   "source": [
    "If an exception happens during the execution of `api.try_port_callback`, the exception is thrown in the notebook kernel and the graph state won't be affected. The exception and the stack trace are printed to the last active cell output."
   ]
  },
  {
   "cell_type": "markdown",
   "metadata": {},
   "source": [
    "## Reading data indefinitely with api.set_port_callback\n",
    "Callbacks can be registered by using the function `api.set_port_callback`. As a result, the function is called when new data is received in the specified port(s)."
   ]
  },
  {
   "cell_type": "markdown",
   "metadata": {},
   "source": [
    "By executing the code below, the `on_data_in` callback will be registered for the `in` input port. Thus, `on_data_in` will be executed for new data available."
   ]
  },
  {
   "cell_type": "code",
   "execution_count": null,
   "metadata": {},
   "outputs": [],
   "source": [
    "api.set_port_callback('in', on_data_in)"
   ]
  },
  {
   "cell_type": "markdown",
   "metadata": {},
   "source": [
    "If an exception happens during the execution of the callback registered with the `api.set_port_callback` function, the exception is logged into the Python subengine and the graph fails."
   ]
  },
  {
   "cell_type": "markdown",
   "metadata": {},
   "source": [
    "## Unregistering a callback\n",
    "To unregister a callback so that it is no longer executed, you can use the function `api.remove_port_callback` with the function as a parameter."
   ]
  },
  {
   "cell_type": "code",
   "execution_count": null,
   "metadata": {},
   "outputs": [],
   "source": [
    "api.remove_port_callback(on_data_in)"
   ]
  },
  {
   "cell_type": "markdown",
   "metadata": {},
   "source": [
    "## Registering callbacks to multiple ports"
   ]
  },
  {
   "cell_type": "markdown",
   "metadata": {},
   "source": [
    "A callback can be registered to multiple ports. In this case, the callback is executed when data is available in all specified ports."
   ]
  },
  {
   "cell_type": "code",
   "execution_count": null,
   "metadata": {},
   "outputs": [],
   "source": [
    "def on_multiple_inputs(input1, input2):\n",
    "    pass\n",
    "\n",
    "# assuming that there are two input ports: 'in1', 'in2'\n",
    "api.set_port_callback(['in1', 'in2'], on_multiple_inputs)"
   ]
  },
  {
   "cell_type": "markdown",
   "metadata": {},
   "source": [
    "# Running in Productive mode\n",
    "\n",
    "Jupyter operators can run in 'productive' mode so that no user interaction is required to run the cells. This mode can be selected in the operator settings in the Modeler UI, toggling the configuration parameter 'Productive' from `False` to `True`.\n",
    "\n",
    "When in productive mode, cells tagged as productive are executed with no user interaction. In the Jupyter notebook UI, you can find a tab on top of each cell. To tag a cell, you can type the desired tag in the tab's textbox, in this case, `productive`, and click on 'Add tag' button."
   ]
  },
  {
   "cell_type": "code",
   "execution_count": null,
   "metadata": {},
   "outputs": [],
   "source": [
    "def my_productive_code(value):\n",
    "    api.send('out', value)\n",
    "    \n",
    "api.set_port_callback('in', my_productive_code)"
   ]
  },
  {
   "cell_type": "markdown",
   "metadata": {},
   "source": [
    "Notes:\n",
    "- If the productive code references some other code in a cell that was not marked as productive with the tag `productive`, a runtime error happens because the operator ignores non-productive code in this mode, making the graph fail. Therefore you should mark all relevant code cells as `productive`.\n",
    "- When running in productive mode, it is not possible to access the Jupyter notebook UI to interact with the cells.\n",
    "- It is not possible to change the execution mode at runtime. To alter it, you must stop the graph, set the 'Productive' configuration to the desired value, and then start the graph again.\n"
   ]
  },
  {
   "cell_type": "markdown",
   "metadata": {},
   "source": [
    "# Accessing the configuration object\n",
    "\n",
    "You can get the configuration object set in the operator configuration's UI in the Modeler by calling `api.get_config`. For example, to get the location of the current notebook, you can access the \"notebookPath\" key from the config object."
   ]
  },
  {
   "cell_type": "code",
   "execution_count": null,
   "metadata": {},
   "outputs": [],
   "source": [
    "config = api.get_config()\n",
    "config[\"notebookFilePath\"]"
   ]
  },
  {
   "cell_type": "markdown",
   "metadata": {},
   "source": [
    "# Installing Python modules\n",
    "Python modules can be installed by using the api.add_dependency function.\n",
    "\n",
    "In the example below, we use `api.add_dependency` to install the `h5py` module."
   ]
  },
  {
   "cell_type": "code",
   "execution_count": null,
   "metadata": {},
   "outputs": [],
   "source": [
    "api.add_dependency('h5py')"
   ]
  },
  {
   "cell_type": "markdown",
   "metadata": {},
   "source": [
    "# Working with messages"
   ]
  },
  {
   "cell_type": "markdown",
   "metadata": {},
   "source": [
    "You can access the Message type by calling `Message`. The body and attributes of a message object `msg` can be accessed as `msg.body` and `msg.attributes`, respectively."
   ]
  },
  {
   "cell_type": "markdown",
   "metadata": {},
   "source": [
    "#### Message(body, attributes)    \n",
    "    Args:\n",
    "        *body (object): body of the message\n",
    "        attributes(dict(str, object) | None): attributes of the message"
   ]
  },
  {
   "cell_type": "code",
   "execution_count": null,
   "metadata": {},
   "outputs": [],
   "source": [
    "new_message = Message(None, {\"debug\": True, \"config\": {}})\n",
    "print(new_message.body)\n",
    "print(new_message.attributes)"
   ]
  },
  {
   "cell_type": "markdown",
   "metadata": {},
   "source": [
    "# Predefined Functions Documentation"
   ]
  },
  {
   "cell_type": "markdown",
   "metadata": {},
   "source": [
    "- [api.send(port, data)](#api.send(port,-data))\n",
    "- [api.get_config()](#api.get_config())\n",
    "- [api.add_dependency(package_name)](#api.add_dependency(package_name)\n",
    ")\n",
    "- [api.try_port_callback(ports, callback)](#api.try_port_callback(ports,-callback))\n",
    "- [api.set_port_callback(ports, callback)](#api.set_port_callback(ports,-callback))\n",
    "- [api.remove_port_callback(callback)](#api.remove_port_callback(callback))"
   ]
  },
  {
   "cell_type": "markdown",
   "metadata": {},
   "source": [
    "#### api.send(port, data)\n",
    "\n",
    "    Writes the data to the specified operator output port. Be careful with the correspondence between the Python data object and the Modeler port type.\n",
    "    Args:\n",
    "        port (str): operator's output port name\n",
    "        data: data object to send"
   ]
  },
  {
   "cell_type": "markdown",
   "metadata": {},
   "source": [
    "#### api.get_config()\n",
    "\n",
    "    Returns the Jupyter operator's configuration object\n",
    "    Args:\n",
    "        None\n",
    "    Returns:\n",
    "        config(dict): configuration object"
   ]
  },
  {
   "cell_type": "markdown",
   "metadata": {},
   "source": [
    "#### api.add_dependency(package_name)\n",
    "\n",
    "    This method tries to install a Python package using pip. If the installation fails, an exception is raised.\n",
    "\n",
    "    Args:\n",
    "        package_name (str): Name of the package to be installed with pip."
   ]
  },
  {
   "cell_type": "markdown",
   "metadata": {},
   "source": [
    "#### api.try_port_callback(ports, callback)\n",
    "\n",
    "    This method executes the callback once with the data retrieved from the specified input port. The callback is called only when there are messages available in all input ports.\n",
    "    * Note that, this function is available only in interactive mode.\n",
    "    \n",
    "    Args:\n",
    "        ports (str|list[str]): input ports to be tested with the callback. `ports` can be a list of strings with the name of each port to be associated, or a string if you want to associate the callback with a single port.\n",
    "        callback (func[...]): a callback function with the same number of arguments as elements in `ports`. The arguments are passed to `callback` in the same order as their corresponding ports in the `ports` argument. "
   ]
  },
  {
   "cell_type": "markdown",
   "metadata": {},
   "source": [
    "#### api.set_port_callback(ports, callback)\n",
    "    This method associates the input ports to the callback. The callback is called only when there are messages available in all input ports. If this method is called multiple times for the same group of ports, then the previous callback is overwritten by the provided one.\n",
    "    Different ports group cannot overlap. For example, a port can be only associated with one callback at a time.\n",
    "    \n",
    "    Args:\n",
    "        ports (str|list[str]): input ports to be associated with the callback. `ports` can be a list of strings with the name of each port to be associated, or a string if you want to associate the callback with a single port.\n",
    "        callback (func[...]): a callback function with the same number of arguments as elements in `ports` or a variable-length argument. Also the arguments are passed to `callback` in the same order of their corresponding ports in the `ports` argument.   "
   ]
  },
  {
   "cell_type": "markdown",
   "metadata": {},
   "source": [
    "#### api.remove_port_callback(callback)\n",
    "    Unregister the callback function. If the function is not registered, the method exits quietly.\n",
    "\n",
    "    Args:\n",
    "        callback (func[...]): callback function to be removed."
   ]
  }
 ],
 "metadata": {
  "celltoolbar": "Tags",
  "kernelspec": {
   "display_name": "Python 3",
   "language": "python",
   "name": "python3"
  },
  "language_info": {
   "codemirror_mode": {
    "name": "ipython",
    "version": 3
   },
   "file_extension": ".py",
   "mimetype": "text/x-python",
   "name": "python",
   "nbconvert_exporter": "python",
   "pygments_lexer": "ipython3",
   "version": "3.6.7"
  }
 },
 "nbformat": 4,
 "nbformat_minor": 2
}
