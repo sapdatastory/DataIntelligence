{
 "cells": [
  {
   "cell_type": "markdown",
   "metadata": {},
   "source": [
    "# 자동차 가격 예측하기(Car Price Estimate probabiliy)<br>회귀분석(Regression)\n",
    "###### Written by Do-kon Kim"
   ]
  },
  {
   "cell_type": "markdown",
   "metadata": {},
   "source": [
    "## 1. 데이터 적재(Data Load)"
   ]
  },
  {
   "cell_type": "code",
   "execution_count": 1,
   "metadata": {},
   "outputs": [],
   "source": [
    "#!pip install hdfs\n",
    "##!pip uninstall hana_ml -y\n",
    "#!pip install hana_ml --upgrade"
   ]
  },
  {
   "cell_type": "markdown",
   "metadata": {},
   "source": [
    "#### HANA ML Python API 최신 버전으로 Update"
   ]
  },
  {
   "cell_type": "code",
   "execution_count": 2,
   "metadata": {},
   "outputs": [
    {
     "name": "stdout",
     "output_type": "stream",
     "text": [
      "Requirement already up-to-date: hana_ml in /opt/conda/lib/python3.7/site-packages (2.8.21042100)\n",
      "Requirement already satisfied, skipping upgrade: pandas>=0.24.2; python_version >= \"3.4\" in /opt/conda/lib/python3.7/site-packages (from hana_ml) (1.1.5)\n",
      "Requirement already satisfied, skipping upgrade: matplotlib; python_version >= \"3\" in /opt/conda/lib/python3.7/site-packages (from hana_ml) (3.3.3)\n",
      "Requirement already satisfied, skipping upgrade: numpy>=1.16.4; python_version >= \"3.4\" in /opt/conda/lib/python3.7/site-packages (from hana_ml) (1.19.4)\n",
      "Requirement already satisfied, skipping upgrade: Shapely>=1.7.1 in /opt/conda/lib/python3.7/site-packages (from hana_ml) (1.7.1)\n",
      "Requirement already satisfied, skipping upgrade: hdbcli>=2.4.194 in /opt/conda/lib/python3.7/site-packages (from hana_ml) (2.4.194)\n",
      "Requirement already satisfied, skipping upgrade: pydot in /opt/conda/lib/python3.7/site-packages (from hana_ml) (1.4.1)\n",
      "Requirement already satisfied, skipping upgrade: tqdm>=4.43.0 in /opt/conda/lib/python3.7/site-packages (from hana_ml) (4.54.1)\n",
      "Requirement already satisfied, skipping upgrade: Deprecated in /opt/conda/lib/python3.7/site-packages (from hana_ml) (1.2.10)\n",
      "Requirement already satisfied, skipping upgrade: schedule in /opt/conda/lib/python3.7/site-packages (from hana_ml) (1.1.0)\n",
      "Requirement already satisfied, skipping upgrade: htmlmin>=0.1.12 in /opt/conda/lib/python3.7/site-packages (from hana_ml) (0.1.12)\n",
      "Requirement already satisfied, skipping upgrade: python-dateutil>=2.7.3 in /opt/conda/lib/python3.7/site-packages (from pandas>=0.24.2; python_version >= \"3.4\"->hana_ml) (2.8.1)\n",
      "Requirement already satisfied, skipping upgrade: pytz>=2017.2 in /opt/conda/lib/python3.7/site-packages (from pandas>=0.24.2; python_version >= \"3.4\"->hana_ml) (2020.4)\n",
      "Requirement already satisfied, skipping upgrade: pyparsing!=2.0.4,!=2.1.2,!=2.1.6,>=2.0.3 in /opt/conda/lib/python3.7/site-packages (from matplotlib; python_version >= \"3\"->hana_ml) (2.4.7)\n",
      "Requirement already satisfied, skipping upgrade: cycler>=0.10 in /opt/conda/lib/python3.7/site-packages (from matplotlib; python_version >= \"3\"->hana_ml) (0.10.0)\n",
      "Requirement already satisfied, skipping upgrade: pillow>=6.2.0 in /opt/conda/lib/python3.7/site-packages (from matplotlib; python_version >= \"3\"->hana_ml) (8.0.1)\n",
      "Requirement already satisfied, skipping upgrade: kiwisolver>=1.0.1 in /opt/conda/lib/python3.7/site-packages (from matplotlib; python_version >= \"3\"->hana_ml) (1.3.1)\n",
      "Requirement already satisfied, skipping upgrade: wrapt<2,>=1.10 in /opt/conda/lib/python3.7/site-packages (from Deprecated->hana_ml) (1.12.1)\n",
      "Requirement already satisfied, skipping upgrade: six>=1.5 in /opt/conda/lib/python3.7/site-packages (from python-dateutil>=2.7.3->pandas>=0.24.2; python_version >= \"3.4\"->hana_ml) (1.11.0)\n"
     ]
    }
   ],
   "source": [
    "!pip install hana_ml --upgrade"
   ]
  },
  {
   "cell_type": "code",
   "execution_count": 3,
   "metadata": {},
   "outputs": [
    {
     "name": "stdout",
     "output_type": "stream",
     "text": [
      "2.8.21042100\n"
     ]
    }
   ],
   "source": [
    "import hana_ml\n",
    "print(hana_ml.__version__)"
   ]
  },
  {
   "cell_type": "markdown",
   "metadata": {},
   "source": [
    "#### Data Lake에 저장된 autos.csv 데이터세트를 DataFrame으로 읽어들이기 "
   ]
  },
  {
   "cell_type": "code",
   "execution_count": 4,
   "metadata": {},
   "outputs": [],
   "source": [
    "from hdfs import InsecureClient\n",
    "client = InsecureClient('http://datalake:50070')"
   ]
  },
  {
   "cell_type": "code",
   "execution_count": 5,
   "metadata": {},
   "outputs": [
    {
     "data": {
      "text/html": [
       "<div>\n",
       "<style scoped>\n",
       "    .dataframe tbody tr th:only-of-type {\n",
       "        vertical-align: middle;\n",
       "    }\n",
       "\n",
       "    .dataframe tbody tr th {\n",
       "        vertical-align: top;\n",
       "    }\n",
       "\n",
       "    .dataframe thead th {\n",
       "        text-align: right;\n",
       "    }\n",
       "</style>\n",
       "<table border=\"1\" class=\"dataframe\">\n",
       "  <thead>\n",
       "    <tr style=\"text-align: right;\">\n",
       "      <th></th>\n",
       "      <th>dateCrawled</th>\n",
       "      <th>name</th>\n",
       "      <th>seller</th>\n",
       "      <th>offerType</th>\n",
       "      <th>price</th>\n",
       "      <th>abtest</th>\n",
       "      <th>vehicleType</th>\n",
       "      <th>yearOfRegistration</th>\n",
       "      <th>gearbox</th>\n",
       "      <th>powerPS</th>\n",
       "      <th>model</th>\n",
       "      <th>kilometer</th>\n",
       "      <th>monthOfRegistration</th>\n",
       "      <th>fuelType</th>\n",
       "      <th>brand</th>\n",
       "      <th>notRepairedDamage</th>\n",
       "      <th>dateCreated</th>\n",
       "      <th>nrOfPictures</th>\n",
       "      <th>postalCode</th>\n",
       "      <th>lastSeen</th>\n",
       "    </tr>\n",
       "  </thead>\n",
       "  <tbody>\n",
       "    <tr>\n",
       "      <th>0</th>\n",
       "      <td>2016-03-24 11:52:17</td>\n",
       "      <td>Golf_3_1.6</td>\n",
       "      <td>privat</td>\n",
       "      <td>Angebot</td>\n",
       "      <td>480</td>\n",
       "      <td>test</td>\n",
       "      <td>NaN</td>\n",
       "      <td>1993</td>\n",
       "      <td>manuell</td>\n",
       "      <td>0</td>\n",
       "      <td>golf</td>\n",
       "      <td>150000</td>\n",
       "      <td>0</td>\n",
       "      <td>benzin</td>\n",
       "      <td>volkswagen</td>\n",
       "      <td>NaN</td>\n",
       "      <td>2016-03-24 00:00:00</td>\n",
       "      <td>0</td>\n",
       "      <td>70435</td>\n",
       "      <td>2016-04-07 03:16:57</td>\n",
       "    </tr>\n",
       "    <tr>\n",
       "      <th>1</th>\n",
       "      <td>2016-03-24 10:58:45</td>\n",
       "      <td>A5_Sportback_2.7_Tdi</td>\n",
       "      <td>privat</td>\n",
       "      <td>Angebot</td>\n",
       "      <td>18300</td>\n",
       "      <td>test</td>\n",
       "      <td>coupe</td>\n",
       "      <td>2011</td>\n",
       "      <td>manuell</td>\n",
       "      <td>190</td>\n",
       "      <td>NaN</td>\n",
       "      <td>125000</td>\n",
       "      <td>5</td>\n",
       "      <td>diesel</td>\n",
       "      <td>audi</td>\n",
       "      <td>ja</td>\n",
       "      <td>2016-03-24 00:00:00</td>\n",
       "      <td>0</td>\n",
       "      <td>66954</td>\n",
       "      <td>2016-04-07 01:46:50</td>\n",
       "    </tr>\n",
       "    <tr>\n",
       "      <th>2</th>\n",
       "      <td>2016-03-14 12:52:21</td>\n",
       "      <td>Jeep_Grand_Cherokee_\"Overland\"</td>\n",
       "      <td>privat</td>\n",
       "      <td>Angebot</td>\n",
       "      <td>9800</td>\n",
       "      <td>test</td>\n",
       "      <td>suv</td>\n",
       "      <td>2004</td>\n",
       "      <td>automatik</td>\n",
       "      <td>163</td>\n",
       "      <td>grand</td>\n",
       "      <td>125000</td>\n",
       "      <td>8</td>\n",
       "      <td>diesel</td>\n",
       "      <td>jeep</td>\n",
       "      <td>NaN</td>\n",
       "      <td>2016-03-14 00:00:00</td>\n",
       "      <td>0</td>\n",
       "      <td>90480</td>\n",
       "      <td>2016-04-05 12:47:46</td>\n",
       "    </tr>\n",
       "    <tr>\n",
       "      <th>3</th>\n",
       "      <td>2016-03-17 16:54:04</td>\n",
       "      <td>GOLF_4_1_4__3TÜRER</td>\n",
       "      <td>privat</td>\n",
       "      <td>Angebot</td>\n",
       "      <td>1500</td>\n",
       "      <td>test</td>\n",
       "      <td>kleinwagen</td>\n",
       "      <td>2001</td>\n",
       "      <td>manuell</td>\n",
       "      <td>75</td>\n",
       "      <td>golf</td>\n",
       "      <td>150000</td>\n",
       "      <td>6</td>\n",
       "      <td>benzin</td>\n",
       "      <td>volkswagen</td>\n",
       "      <td>nein</td>\n",
       "      <td>2016-03-17 00:00:00</td>\n",
       "      <td>0</td>\n",
       "      <td>91074</td>\n",
       "      <td>2016-03-17 17:40:17</td>\n",
       "    </tr>\n",
       "    <tr>\n",
       "      <th>4</th>\n",
       "      <td>2016-03-31 17:25:20</td>\n",
       "      <td>Skoda_Fabia_1.4_TDI_PD_Classic</td>\n",
       "      <td>privat</td>\n",
       "      <td>Angebot</td>\n",
       "      <td>3600</td>\n",
       "      <td>test</td>\n",
       "      <td>kleinwagen</td>\n",
       "      <td>2008</td>\n",
       "      <td>manuell</td>\n",
       "      <td>69</td>\n",
       "      <td>fabia</td>\n",
       "      <td>90000</td>\n",
       "      <td>7</td>\n",
       "      <td>diesel</td>\n",
       "      <td>skoda</td>\n",
       "      <td>nein</td>\n",
       "      <td>2016-03-31 00:00:00</td>\n",
       "      <td>0</td>\n",
       "      <td>60437</td>\n",
       "      <td>2016-04-06 10:17:21</td>\n",
       "    </tr>\n",
       "  </tbody>\n",
       "</table>\n",
       "</div>"
      ],
      "text/plain": [
       "           dateCrawled                            name  seller offerType  \\\n",
       "0  2016-03-24 11:52:17                      Golf_3_1.6  privat   Angebot   \n",
       "1  2016-03-24 10:58:45            A5_Sportback_2.7_Tdi  privat   Angebot   \n",
       "2  2016-03-14 12:52:21  Jeep_Grand_Cherokee_\"Overland\"  privat   Angebot   \n",
       "3  2016-03-17 16:54:04              GOLF_4_1_4__3TÜRER  privat   Angebot   \n",
       "4  2016-03-31 17:25:20  Skoda_Fabia_1.4_TDI_PD_Classic  privat   Angebot   \n",
       "\n",
       "   price abtest vehicleType  yearOfRegistration    gearbox  powerPS  model  \\\n",
       "0    480   test         NaN                1993    manuell        0   golf   \n",
       "1  18300   test       coupe                2011    manuell      190    NaN   \n",
       "2   9800   test         suv                2004  automatik      163  grand   \n",
       "3   1500   test  kleinwagen                2001    manuell       75   golf   \n",
       "4   3600   test  kleinwagen                2008    manuell       69  fabia   \n",
       "\n",
       "   kilometer  monthOfRegistration fuelType       brand notRepairedDamage  \\\n",
       "0     150000                    0   benzin  volkswagen               NaN   \n",
       "1     125000                    5   diesel        audi                ja   \n",
       "2     125000                    8   diesel        jeep               NaN   \n",
       "3     150000                    6   benzin  volkswagen              nein   \n",
       "4      90000                    7   diesel       skoda              nein   \n",
       "\n",
       "           dateCreated  nrOfPictures  postalCode             lastSeen  \n",
       "0  2016-03-24 00:00:00             0       70435  2016-04-07 03:16:57  \n",
       "1  2016-03-24 00:00:00             0       66954  2016-04-07 01:46:50  \n",
       "2  2016-03-14 00:00:00             0       90480  2016-04-05 12:47:46  \n",
       "3  2016-03-17 00:00:00             0       91074  2016-03-17 17:40:17  \n",
       "4  2016-03-31 00:00:00             0       60437  2016-04-06 10:17:21  "
      ]
     },
     "execution_count": 5,
     "metadata": {},
     "output_type": "execute_result"
    }
   ],
   "source": [
    "import pandas as pd\n",
    "with client.read('/shared/Demo/autos.csv', encoding='Windows-1252') as reader:\n",
    "    df_data = pd.read_csv(reader, sep=',')\n",
    "df_data.head(5)"
   ]
  },
  {
   "cell_type": "code",
   "execution_count": 6,
   "metadata": {},
   "outputs": [],
   "source": [
    "#import pandas as pd\n",
    "#df_data = pd.read_csv('autos.csv', encoding = 'Windows-1252')\n",
    "#df_data.head(5)"
   ]
  },
  {
   "cell_type": "code",
   "execution_count": 7,
   "metadata": {},
   "outputs": [],
   "source": [
    "#### 컬럼명을 대문자로 변경하기"
   ]
  },
  {
   "cell_type": "code",
   "execution_count": 8,
   "metadata": {},
   "outputs": [],
   "source": [
    "df_data.columns = map(str.upper, df_data.columns)"
   ]
  },
  {
   "cell_type": "markdown",
   "metadata": {},
   "source": [
    "#### 전체 데이터세트에서 필터(조건)으로 데이터세트 선택하기"
   ]
  },
  {
   "cell_type": "code",
   "execution_count": 9,
   "metadata": {},
   "outputs": [],
   "source": [
    "df_data = df_data[df_data['BRAND'] == 'mercedes_benz']    # Keep only Mercedes Benz\n",
    "df_data = df_data[df_data['OFFERTYPE'] == 'Angebot']      # Keep only cars for sale (excluding adverts for purchasing a car)\n",
    "df_data = df_data[df_data['SELLER'] == 'privat']          # Keep only sales by private people (excluding commercial offers)\n",
    "df_data = df_data[df_data['NOTREPAIREDDAMAGE'] == 'nein'] # Keep only cars that have no unrepaired damage"
   ]
  },
  {
   "cell_type": "markdown",
   "metadata": {},
   "source": [
    "#### 불필요한 컬럼(속성) 삭제하기"
   ]
  },
  {
   "cell_type": "code",
   "execution_count": 10,
   "metadata": {},
   "outputs": [],
   "source": [
    "df_data = df_data.drop(['NOTREPAIREDDAMAGE',\n",
    "                        'NAME', \n",
    "                        'DATECRAWLED', \n",
    "                        'SELLER', \n",
    "                        'OFFERTYPE', \n",
    "                        'ABTEST', \n",
    "                        'BRAND', \n",
    "                        'DATECREATED',\n",
    "                        'NROFPICTURES', \n",
    "                        'POSTALCODE', \n",
    "                        'LASTSEEN', \n",
    "                        'MONTHOFREGISTRATION'],\n",
    "                         axis = 1)"
   ]
  },
  {
   "cell_type": "markdown",
   "metadata": {},
   "source": [
    "#### 컬럼명 변경하기"
   ]
  },
  {
   "cell_type": "code",
   "execution_count": 11,
   "metadata": {},
   "outputs": [],
   "source": [
    "df_data = df_data.rename(index = str, columns = {'YEAROFREGISTRATION': 'YEAR',\n",
    "                                                 'POWERPS': 'HP'})"
   ]
  },
  {
   "cell_type": "markdown",
   "metadata": {},
   "source": [
    "#### 특정 데이터 값 치환하기"
   ]
  },
  {
   "cell_type": "code",
   "execution_count": 12,
   "metadata": {},
   "outputs": [],
   "source": [
    "df_data['MODEL'] = df_data['MODEL'].replace({'a_klasse': 'A-Class',\n",
    "                                             'b_klasse': 'B-Class',\n",
    "                                             'c_klasse': 'C-Class',\n",
    "                                             'e_klasse': 'E-Class',\n",
    "                                             'g_klasse': 'G-Class',\n",
    "                                             'm_klasse': 'M-Class',\n",
    "                                             's_klasse': 'S-Class',                                     \n",
    "                                             'v_klasse': 'V-Class',                                       \n",
    "                                             'cl': 'CL',  \n",
    "                                             'sl': 'SL', \n",
    "                                             'gl': 'GL', \n",
    "                                             'clk': 'CLK',   \n",
    "                                             'slk': 'SLK',\n",
    "                                             'glk': 'GLK',  \n",
    "                                             'sprinter': 'Sprinter',  \n",
    "                                             'viano': 'Viano',  \n",
    "                                             'vito': 'Vito',                                        \n",
    "                                             'andere': 'Other'                                        \n",
    "                                             })\n",
    "df_data['GEARBOX']  = df_data['GEARBOX'].replace({'manuell': 'manual',\n",
    "                                                  'automatik': 'automatic'})\n",
    "df_data['FUELTYPE'] = df_data['FUELTYPE'].replace({'benzin': 'petrol'})"
   ]
  },
  {
   "cell_type": "markdown",
   "metadata": {},
   "source": [
    "#### 컬럼 CAR_ID 추가하기"
   ]
  },
  {
   "cell_type": "code",
   "execution_count": 13,
   "metadata": {},
   "outputs": [],
   "source": [
    "df_data.insert(0, 'CAR_ID', df_data.reset_index().index)"
   ]
  },
  {
   "cell_type": "code",
   "execution_count": 14,
   "metadata": {},
   "outputs": [],
   "source": [
    "df_data = df_data[pd.Index.append(df_data.columns.drop(\"PRICE\"), pd.Index(['PRICE']))]"
   ]
  },
  {
   "cell_type": "markdown",
   "metadata": {},
   "source": [
    "#### 최종 데이터세트"
   ]
  },
  {
   "cell_type": "code",
   "execution_count": 15,
   "metadata": {},
   "outputs": [
    {
     "data": {
      "text/html": [
       "<div>\n",
       "<style scoped>\n",
       "    .dataframe tbody tr th:only-of-type {\n",
       "        vertical-align: middle;\n",
       "    }\n",
       "\n",
       "    .dataframe tbody tr th {\n",
       "        vertical-align: top;\n",
       "    }\n",
       "\n",
       "    .dataframe thead th {\n",
       "        text-align: right;\n",
       "    }\n",
       "</style>\n",
       "<table border=\"1\" class=\"dataframe\">\n",
       "  <thead>\n",
       "    <tr style=\"text-align: right;\">\n",
       "      <th></th>\n",
       "      <th>CAR_ID</th>\n",
       "      <th>VEHICLETYPE</th>\n",
       "      <th>YEAR</th>\n",
       "      <th>GEARBOX</th>\n",
       "      <th>HP</th>\n",
       "      <th>MODEL</th>\n",
       "      <th>KILOMETER</th>\n",
       "      <th>FUELTYPE</th>\n",
       "      <th>PRICE</th>\n",
       "    </tr>\n",
       "  </thead>\n",
       "  <tbody>\n",
       "    <tr>\n",
       "      <th>19</th>\n",
       "      <td>0</td>\n",
       "      <td>bus</td>\n",
       "      <td>2004</td>\n",
       "      <td>manual</td>\n",
       "      <td>102</td>\n",
       "      <td>A-Class</td>\n",
       "      <td>150000</td>\n",
       "      <td>petrol</td>\n",
       "      <td>1850</td>\n",
       "    </tr>\n",
       "    <tr>\n",
       "      <th>30</th>\n",
       "      <td>1</td>\n",
       "      <td>limousine</td>\n",
       "      <td>1995</td>\n",
       "      <td>automatic</td>\n",
       "      <td>113</td>\n",
       "      <td>E-Class</td>\n",
       "      <td>150000</td>\n",
       "      <td>diesel</td>\n",
       "      <td>3300</td>\n",
       "    </tr>\n",
       "    <tr>\n",
       "      <th>34</th>\n",
       "      <td>2</td>\n",
       "      <td>limousine</td>\n",
       "      <td>2004</td>\n",
       "      <td>automatic</td>\n",
       "      <td>122</td>\n",
       "      <td>E-Class</td>\n",
       "      <td>150000</td>\n",
       "      <td>diesel</td>\n",
       "      <td>3500</td>\n",
       "    </tr>\n",
       "    <tr>\n",
       "      <th>39</th>\n",
       "      <td>3</td>\n",
       "      <td>bus</td>\n",
       "      <td>1984</td>\n",
       "      <td>manual</td>\n",
       "      <td>70</td>\n",
       "      <td>Other</td>\n",
       "      <td>150000</td>\n",
       "      <td>diesel</td>\n",
       "      <td>1500</td>\n",
       "    </tr>\n",
       "    <tr>\n",
       "      <th>49</th>\n",
       "      <td>4</td>\n",
       "      <td>bus</td>\n",
       "      <td>2012</td>\n",
       "      <td>automatic</td>\n",
       "      <td>109</td>\n",
       "      <td>B-Class</td>\n",
       "      <td>150000</td>\n",
       "      <td>diesel</td>\n",
       "      <td>13500</td>\n",
       "    </tr>\n",
       "    <tr>\n",
       "      <th>...</th>\n",
       "      <td>...</td>\n",
       "      <td>...</td>\n",
       "      <td>...</td>\n",
       "      <td>...</td>\n",
       "      <td>...</td>\n",
       "      <td>...</td>\n",
       "      <td>...</td>\n",
       "      <td>...</td>\n",
       "      <td>...</td>\n",
       "    </tr>\n",
       "    <tr>\n",
       "      <th>371465</th>\n",
       "      <td>26895</td>\n",
       "      <td>bus</td>\n",
       "      <td>2002</td>\n",
       "      <td>manual</td>\n",
       "      <td>66</td>\n",
       "      <td>Vito</td>\n",
       "      <td>150000</td>\n",
       "      <td>diesel</td>\n",
       "      <td>1650</td>\n",
       "    </tr>\n",
       "    <tr>\n",
       "      <th>371478</th>\n",
       "      <td>26896</td>\n",
       "      <td>kleinwagen</td>\n",
       "      <td>2001</td>\n",
       "      <td>manual</td>\n",
       "      <td>95</td>\n",
       "      <td>A-Class</td>\n",
       "      <td>150000</td>\n",
       "      <td>diesel</td>\n",
       "      <td>1300</td>\n",
       "    </tr>\n",
       "    <tr>\n",
       "      <th>371483</th>\n",
       "      <td>26897</td>\n",
       "      <td>limousine</td>\n",
       "      <td>2012</td>\n",
       "      <td>automatic</td>\n",
       "      <td>136</td>\n",
       "      <td>E-Class</td>\n",
       "      <td>60000</td>\n",
       "      <td>diesel</td>\n",
       "      <td>20500</td>\n",
       "    </tr>\n",
       "    <tr>\n",
       "      <th>371489</th>\n",
       "      <td>26898</td>\n",
       "      <td>bus</td>\n",
       "      <td>2007</td>\n",
       "      <td>manual</td>\n",
       "      <td>0</td>\n",
       "      <td>B-Class</td>\n",
       "      <td>125000</td>\n",
       "      <td>petrol</td>\n",
       "      <td>7900</td>\n",
       "    </tr>\n",
       "    <tr>\n",
       "      <th>371510</th>\n",
       "      <td>26899</td>\n",
       "      <td>limousine</td>\n",
       "      <td>2003</td>\n",
       "      <td>automatic</td>\n",
       "      <td>145</td>\n",
       "      <td>E-Class</td>\n",
       "      <td>150000</td>\n",
       "      <td>diesel</td>\n",
       "      <td>6500</td>\n",
       "    </tr>\n",
       "  </tbody>\n",
       "</table>\n",
       "<p>26900 rows × 9 columns</p>\n",
       "</div>"
      ],
      "text/plain": [
       "        CAR_ID VEHICLETYPE  YEAR    GEARBOX   HP    MODEL  KILOMETER FUELTYPE  \\\n",
       "19           0         bus  2004     manual  102  A-Class     150000   petrol   \n",
       "30           1   limousine  1995  automatic  113  E-Class     150000   diesel   \n",
       "34           2   limousine  2004  automatic  122  E-Class     150000   diesel   \n",
       "39           3         bus  1984     manual   70    Other     150000   diesel   \n",
       "49           4         bus  2012  automatic  109  B-Class     150000   diesel   \n",
       "...        ...         ...   ...        ...  ...      ...        ...      ...   \n",
       "371465   26895         bus  2002     manual   66     Vito     150000   diesel   \n",
       "371478   26896  kleinwagen  2001     manual   95  A-Class     150000   diesel   \n",
       "371483   26897   limousine  2012  automatic  136  E-Class      60000   diesel   \n",
       "371489   26898         bus  2007     manual    0  B-Class     125000   petrol   \n",
       "371510   26899   limousine  2003  automatic  145  E-Class     150000   diesel   \n",
       "\n",
       "        PRICE  \n",
       "19       1850  \n",
       "30       3300  \n",
       "34       3500  \n",
       "39       1500  \n",
       "49      13500  \n",
       "...       ...  \n",
       "371465   1650  \n",
       "371478   1300  \n",
       "371483  20500  \n",
       "371489   7900  \n",
       "371510   6500  \n",
       "\n",
       "[26900 rows x 9 columns]"
      ]
     },
     "execution_count": 15,
     "metadata": {},
     "output_type": "execute_result"
    }
   ],
   "source": [
    "df_data"
   ]
  },
  {
   "cell_type": "markdown",
   "metadata": {},
   "source": [
    "#### HANA DB 세션 연결"
   ]
  },
  {
   "cell_type": "code",
   "execution_count": 16,
   "metadata": {},
   "outputs": [],
   "source": [
    "from notebook_hana_connector.notebook_hana_connector import NotebookConnectionContext\n",
    "conn = NotebookConnectionContext(connectionId = 'XA2648_HANA')"
   ]
  },
  {
   "cell_type": "markdown",
   "metadata": {},
   "source": [
    "#### 최종 데이터세트의 HANA Table 생성하기"
   ]
  },
  {
   "cell_type": "code",
   "execution_count": 17,
   "metadata": {},
   "outputs": [
    {
     "name": "stderr",
     "output_type": "stream",
     "text": [
      "100%|██████████| 1/1 [00:00<00:00,  1.36it/s]\n"
     ]
    }
   ],
   "source": [
    "import hana_ml.dataframe as dataframe\n",
    "df_remote = dataframe.create_dataframe_from_pandas(connection_context = conn, \n",
    "                                                   pandas_df = df_data, \n",
    "                                                   table_name = 'USEDCARPRICES_TA99',\n",
    "                                                   schema = 'XA2664_01',\n",
    "                                                   force = True,\n",
    "                                                   replace = False)"
   ]
  },
  {
   "cell_type": "markdown",
   "metadata": {},
   "source": [
    "#### 신규(예측 대상) 데이터세트 생성하기"
   ]
  },
  {
   "cell_type": "code",
   "execution_count": 18,
   "metadata": {},
   "outputs": [],
   "source": [
    "df_topredict = pd.DataFrame(data = None, \n",
    "                            columns = df_data.columns.drop('PRICE'))\n",
    "for xx in df_topredict.columns:\n",
    "    df_topredict[xx] = df_topredict[xx].astype(df_data[xx].dtypes.name)"
   ]
  },
  {
   "cell_type": "code",
   "execution_count": 19,
   "metadata": {},
   "outputs": [],
   "source": [
    "df_topredict = df_topredict.append({'CAR_ID': 1, \n",
    "                                    'VEHICLETYPE': 'coupe', \n",
    "                                    'YEAR': 2006, \n",
    "                                    'GEARBOX': 'manual', \n",
    "                                    'HP': 232,  \n",
    "                                    'MODEL': 'CLK', \n",
    "                                    'KILOMETER': 50000,\n",
    "                                    'FUELTYPE': 'petrol'}, \n",
    "                                    ignore_index = True)\n",
    "df_topredict = df_topredict.append({'CAR_ID': 2, \n",
    "                                    'VEHICLETYPE': 'coupe', \n",
    "                                    'YEAR': 2006, \n",
    "                                    'GEARBOX': 'manual', \n",
    "                                    'HP': 232,  \n",
    "                                    'MODEL': 'CLK', \n",
    "                                    'KILOMETER': 150000,\n",
    "                                    'FUELTYPE': 'petrol'}, \n",
    "                                    ignore_index = True)"
   ]
  },
  {
   "cell_type": "markdown",
   "metadata": {},
   "source": [
    "#### 신규(예측 대상) 데이터세트의 HANA Table 생성하기"
   ]
  },
  {
   "cell_type": "code",
   "execution_count": 20,
   "metadata": {},
   "outputs": [
    {
     "name": "stderr",
     "output_type": "stream",
     "text": [
      "100%|██████████| 1/1 [00:00<00:00, 81.12it/s]\n"
     ]
    }
   ],
   "source": [
    "df_remote = dataframe.create_dataframe_from_pandas(connection_context = conn, \n",
    "                                                   pandas_df = df_topredict, \n",
    "                                                   table_name = 'USEDCARPRICES_TOPREDICT_TA99',\n",
    "                                                   schema = 'XA2664_01',\n",
    "                                                   force = True,\n",
    "                                                   replace = False)"
   ]
  },
  {
   "cell_type": "markdown",
   "metadata": {},
   "source": [
    "#### HANA DB 세션 종료"
   ]
  },
  {
   "cell_type": "code",
   "execution_count": 21,
   "metadata": {},
   "outputs": [],
   "source": [
    "conn.close()"
   ]
  },
  {
   "cell_type": "markdown",
   "metadata": {},
   "source": [
    "#### "
   ]
  },
  {
   "cell_type": "markdown",
   "metadata": {},
   "source": [
    "## 2. 탐색적 데이터 분석(Data Exploration)"
   ]
  },
  {
   "cell_type": "markdown",
   "metadata": {},
   "source": [
    "#### HANA DB 세션 연결"
   ]
  },
  {
   "cell_type": "code",
   "execution_count": 22,
   "metadata": {},
   "outputs": [],
   "source": [
    "from notebook_hana_connector.notebook_hana_connector import NotebookConnectionContext\n",
    "conn = NotebookConnectionContext(connectionId = 'XA2648_HANA')"
   ]
  },
  {
   "cell_type": "markdown",
   "metadata": {},
   "source": [
    "#### Table 데이터세트를 HANA DataFrame으로 읽어들이기"
   ]
  },
  {
   "cell_type": "code",
   "execution_count": 23,
   "metadata": {},
   "outputs": [],
   "source": [
    "import hana_ml.dataframe as dataframe\n",
    "df_remote = conn.table(table = 'USEDCARPRICES_TA99', schema = 'XA2664_01')"
   ]
  },
  {
   "cell_type": "code",
   "execution_count": 24,
   "metadata": {},
   "outputs": [
    {
     "data": {
      "text/html": [
       "<div>\n",
       "<style scoped>\n",
       "    .dataframe tbody tr th:only-of-type {\n",
       "        vertical-align: middle;\n",
       "    }\n",
       "\n",
       "    .dataframe tbody tr th {\n",
       "        vertical-align: top;\n",
       "    }\n",
       "\n",
       "    .dataframe thead th {\n",
       "        text-align: right;\n",
       "    }\n",
       "</style>\n",
       "<table border=\"1\" class=\"dataframe\">\n",
       "  <thead>\n",
       "    <tr style=\"text-align: right;\">\n",
       "      <th></th>\n",
       "      <th>CAR_ID</th>\n",
       "      <th>VEHICLETYPE</th>\n",
       "      <th>YEAR</th>\n",
       "      <th>GEARBOX</th>\n",
       "      <th>HP</th>\n",
       "      <th>MODEL</th>\n",
       "      <th>KILOMETER</th>\n",
       "      <th>FUELTYPE</th>\n",
       "      <th>PRICE</th>\n",
       "    </tr>\n",
       "  </thead>\n",
       "  <tbody>\n",
       "    <tr>\n",
       "      <th>0</th>\n",
       "      <td>0</td>\n",
       "      <td>bus</td>\n",
       "      <td>2004</td>\n",
       "      <td>manual</td>\n",
       "      <td>102</td>\n",
       "      <td>A-Class</td>\n",
       "      <td>150000</td>\n",
       "      <td>petrol</td>\n",
       "      <td>1850</td>\n",
       "    </tr>\n",
       "    <tr>\n",
       "      <th>1</th>\n",
       "      <td>1</td>\n",
       "      <td>limousine</td>\n",
       "      <td>1995</td>\n",
       "      <td>automatic</td>\n",
       "      <td>113</td>\n",
       "      <td>E-Class</td>\n",
       "      <td>150000</td>\n",
       "      <td>diesel</td>\n",
       "      <td>3300</td>\n",
       "    </tr>\n",
       "    <tr>\n",
       "      <th>2</th>\n",
       "      <td>2</td>\n",
       "      <td>limousine</td>\n",
       "      <td>2004</td>\n",
       "      <td>automatic</td>\n",
       "      <td>122</td>\n",
       "      <td>E-Class</td>\n",
       "      <td>150000</td>\n",
       "      <td>diesel</td>\n",
       "      <td>3500</td>\n",
       "    </tr>\n",
       "    <tr>\n",
       "      <th>3</th>\n",
       "      <td>3</td>\n",
       "      <td>bus</td>\n",
       "      <td>1984</td>\n",
       "      <td>manual</td>\n",
       "      <td>70</td>\n",
       "      <td>Other</td>\n",
       "      <td>150000</td>\n",
       "      <td>diesel</td>\n",
       "      <td>1500</td>\n",
       "    </tr>\n",
       "    <tr>\n",
       "      <th>4</th>\n",
       "      <td>4</td>\n",
       "      <td>bus</td>\n",
       "      <td>2012</td>\n",
       "      <td>automatic</td>\n",
       "      <td>109</td>\n",
       "      <td>B-Class</td>\n",
       "      <td>150000</td>\n",
       "      <td>diesel</td>\n",
       "      <td>13500</td>\n",
       "    </tr>\n",
       "  </tbody>\n",
       "</table>\n",
       "</div>"
      ],
      "text/plain": [
       "   CAR_ID VEHICLETYPE  YEAR    GEARBOX   HP    MODEL  KILOMETER FUELTYPE  \\\n",
       "0       0         bus  2004     manual  102  A-Class     150000   petrol   \n",
       "1       1   limousine  1995  automatic  113  E-Class     150000   diesel   \n",
       "2       2   limousine  2004  automatic  122  E-Class     150000   diesel   \n",
       "3       3         bus  1984     manual   70    Other     150000   diesel   \n",
       "4       4         bus  2012  automatic  109  B-Class     150000   diesel   \n",
       "\n",
       "   PRICE  \n",
       "0   1850  \n",
       "1   3300  \n",
       "2   3500  \n",
       "3   1500  \n",
       "4  13500  "
      ]
     },
     "execution_count": 24,
     "metadata": {},
     "output_type": "execute_result"
    }
   ],
   "source": [
    "df_remote.head(n = 5).collect()"
   ]
  },
  {
   "cell_type": "markdown",
   "metadata": {},
   "source": [
    "#### 전체 레코드 수"
   ]
  },
  {
   "cell_type": "code",
   "execution_count": 25,
   "metadata": {},
   "outputs": [
    {
     "data": {
      "text/plain": [
       "26900"
      ]
     },
     "execution_count": 25,
     "metadata": {},
     "output_type": "execute_result"
    }
   ],
   "source": [
    "df_remote.count()"
   ]
  },
  {
   "cell_type": "markdown",
   "metadata": {},
   "source": [
    "#### PRICE 최대값"
   ]
  },
  {
   "cell_type": "code",
   "execution_count": 26,
   "metadata": {},
   "outputs": [
    {
     "data": {
      "text/html": [
       "<div>\n",
       "<style scoped>\n",
       "    .dataframe tbody tr th:only-of-type {\n",
       "        vertical-align: middle;\n",
       "    }\n",
       "\n",
       "    .dataframe tbody tr th {\n",
       "        vertical-align: top;\n",
       "    }\n",
       "\n",
       "    .dataframe thead th {\n",
       "        text-align: right;\n",
       "    }\n",
       "</style>\n",
       "<table border=\"1\" class=\"dataframe\">\n",
       "  <thead>\n",
       "    <tr style=\"text-align: right;\">\n",
       "      <th></th>\n",
       "      <th>MOSTEXPENSIVE</th>\n",
       "    </tr>\n",
       "  </thead>\n",
       "  <tbody>\n",
       "    <tr>\n",
       "      <th>0</th>\n",
       "      <td>14000500</td>\n",
       "    </tr>\n",
       "  </tbody>\n",
       "</table>\n",
       "</div>"
      ],
      "text/plain": [
       "   MOSTEXPENSIVE\n",
       "0       14000500"
      ]
     },
     "execution_count": 26,
     "metadata": {},
     "output_type": "execute_result"
    }
   ],
   "source": [
    "df_remote.agg([('max', 'PRICE', 'MOSTEXPENSIVE')]).collect()"
   ]
  },
  {
   "cell_type": "markdown",
   "metadata": {},
   "source": [
    "#### 데이터세트 통계 정보"
   ]
  },
  {
   "cell_type": "code",
   "execution_count": 27,
   "metadata": {},
   "outputs": [
    {
     "data": {
      "text/html": [
       "<div>\n",
       "<style scoped>\n",
       "    .dataframe tbody tr th:only-of-type {\n",
       "        vertical-align: middle;\n",
       "    }\n",
       "\n",
       "    .dataframe tbody tr th {\n",
       "        vertical-align: top;\n",
       "    }\n",
       "\n",
       "    .dataframe thead th {\n",
       "        text-align: right;\n",
       "    }\n",
       "</style>\n",
       "<table border=\"1\" class=\"dataframe\">\n",
       "  <thead>\n",
       "    <tr style=\"text-align: right;\">\n",
       "      <th></th>\n",
       "      <th>column</th>\n",
       "      <th>count</th>\n",
       "      <th>unique</th>\n",
       "      <th>nulls</th>\n",
       "      <th>mean</th>\n",
       "      <th>std</th>\n",
       "      <th>min</th>\n",
       "      <th>max</th>\n",
       "      <th>median</th>\n",
       "      <th>25_percent_cont</th>\n",
       "      <th>25_percent_disc</th>\n",
       "      <th>50_percent_cont</th>\n",
       "      <th>50_percent_disc</th>\n",
       "      <th>75_percent_cont</th>\n",
       "      <th>75_percent_disc</th>\n",
       "    </tr>\n",
       "  </thead>\n",
       "  <tbody>\n",
       "    <tr>\n",
       "      <th>0</th>\n",
       "      <td>CAR_ID</td>\n",
       "      <td>26900</td>\n",
       "      <td>26900</td>\n",
       "      <td>0</td>\n",
       "      <td>13449.500000</td>\n",
       "      <td>7765.505456</td>\n",
       "      <td>0.0</td>\n",
       "      <td>26899.0</td>\n",
       "      <td>13450.0</td>\n",
       "      <td>6724.75</td>\n",
       "      <td>6724.0</td>\n",
       "      <td>13449.5</td>\n",
       "      <td>13449.0</td>\n",
       "      <td>20174.25</td>\n",
       "      <td>20174.0</td>\n",
       "    </tr>\n",
       "    <tr>\n",
       "      <th>1</th>\n",
       "      <td>YEAR</td>\n",
       "      <td>26900</td>\n",
       "      <td>74</td>\n",
       "      <td>0</td>\n",
       "      <td>2003.002342</td>\n",
       "      <td>31.352876</td>\n",
       "      <td>1000.0</td>\n",
       "      <td>6200.0</td>\n",
       "      <td>2003.0</td>\n",
       "      <td>1999.00</td>\n",
       "      <td>1999.0</td>\n",
       "      <td>2003.0</td>\n",
       "      <td>2003.0</td>\n",
       "      <td>2008.00</td>\n",
       "      <td>2008.0</td>\n",
       "    </tr>\n",
       "    <tr>\n",
       "      <th>2</th>\n",
       "      <td>HP</td>\n",
       "      <td>26900</td>\n",
       "      <td>307</td>\n",
       "      <td>0</td>\n",
       "      <td>163.146171</td>\n",
       "      <td>212.759225</td>\n",
       "      <td>0.0</td>\n",
       "      <td>20000.0</td>\n",
       "      <td>150.0</td>\n",
       "      <td>122.00</td>\n",
       "      <td>122.0</td>\n",
       "      <td>150.0</td>\n",
       "      <td>150.0</td>\n",
       "      <td>193.00</td>\n",
       "      <td>193.0</td>\n",
       "    </tr>\n",
       "    <tr>\n",
       "      <th>3</th>\n",
       "      <td>KILOMETER</td>\n",
       "      <td>26900</td>\n",
       "      <td>13</td>\n",
       "      <td>0</td>\n",
       "      <td>129136.059480</td>\n",
       "      <td>36850.310065</td>\n",
       "      <td>5000.0</td>\n",
       "      <td>150000.0</td>\n",
       "      <td>150000.0</td>\n",
       "      <td>125000.00</td>\n",
       "      <td>125000.0</td>\n",
       "      <td>150000.0</td>\n",
       "      <td>150000.0</td>\n",
       "      <td>150000.00</td>\n",
       "      <td>150000.0</td>\n",
       "    </tr>\n",
       "    <tr>\n",
       "      <th>4</th>\n",
       "      <td>PRICE</td>\n",
       "      <td>26900</td>\n",
       "      <td>1972</td>\n",
       "      <td>0</td>\n",
       "      <td>10078.361970</td>\n",
       "      <td>86154.852061</td>\n",
       "      <td>0.0</td>\n",
       "      <td>14000500.0</td>\n",
       "      <td>6000.0</td>\n",
       "      <td>2800.00</td>\n",
       "      <td>2800.0</td>\n",
       "      <td>6000.0</td>\n",
       "      <td>6000.0</td>\n",
       "      <td>12887.25</td>\n",
       "      <td>12887.0</td>\n",
       "    </tr>\n",
       "    <tr>\n",
       "      <th>5</th>\n",
       "      <td>VEHICLETYPE</td>\n",
       "      <td>25899</td>\n",
       "      <td>8</td>\n",
       "      <td>1001</td>\n",
       "      <td>NaN</td>\n",
       "      <td>NaN</td>\n",
       "      <td>NaN</td>\n",
       "      <td>NaN</td>\n",
       "      <td>NaN</td>\n",
       "      <td>NaN</td>\n",
       "      <td>NaN</td>\n",
       "      <td>NaN</td>\n",
       "      <td>NaN</td>\n",
       "      <td>NaN</td>\n",
       "      <td>NaN</td>\n",
       "    </tr>\n",
       "    <tr>\n",
       "      <th>6</th>\n",
       "      <td>GEARBOX</td>\n",
       "      <td>26396</td>\n",
       "      <td>2</td>\n",
       "      <td>504</td>\n",
       "      <td>NaN</td>\n",
       "      <td>NaN</td>\n",
       "      <td>NaN</td>\n",
       "      <td>NaN</td>\n",
       "      <td>NaN</td>\n",
       "      <td>NaN</td>\n",
       "      <td>NaN</td>\n",
       "      <td>NaN</td>\n",
       "      <td>NaN</td>\n",
       "      <td>NaN</td>\n",
       "      <td>NaN</td>\n",
       "    </tr>\n",
       "    <tr>\n",
       "      <th>7</th>\n",
       "      <td>MODEL</td>\n",
       "      <td>26381</td>\n",
       "      <td>18</td>\n",
       "      <td>519</td>\n",
       "      <td>NaN</td>\n",
       "      <td>NaN</td>\n",
       "      <td>NaN</td>\n",
       "      <td>NaN</td>\n",
       "      <td>NaN</td>\n",
       "      <td>NaN</td>\n",
       "      <td>NaN</td>\n",
       "      <td>NaN</td>\n",
       "      <td>NaN</td>\n",
       "      <td>NaN</td>\n",
       "      <td>NaN</td>\n",
       "    </tr>\n",
       "    <tr>\n",
       "      <th>8</th>\n",
       "      <td>FUELTYPE</td>\n",
       "      <td>25930</td>\n",
       "      <td>7</td>\n",
       "      <td>970</td>\n",
       "      <td>NaN</td>\n",
       "      <td>NaN</td>\n",
       "      <td>NaN</td>\n",
       "      <td>NaN</td>\n",
       "      <td>NaN</td>\n",
       "      <td>NaN</td>\n",
       "      <td>NaN</td>\n",
       "      <td>NaN</td>\n",
       "      <td>NaN</td>\n",
       "      <td>NaN</td>\n",
       "      <td>NaN</td>\n",
       "    </tr>\n",
       "  </tbody>\n",
       "</table>\n",
       "</div>"
      ],
      "text/plain": [
       "        column  count  unique  nulls           mean           std     min  \\\n",
       "0       CAR_ID  26900   26900      0   13449.500000   7765.505456     0.0   \n",
       "1         YEAR  26900      74      0    2003.002342     31.352876  1000.0   \n",
       "2           HP  26900     307      0     163.146171    212.759225     0.0   \n",
       "3    KILOMETER  26900      13      0  129136.059480  36850.310065  5000.0   \n",
       "4        PRICE  26900    1972      0   10078.361970  86154.852061     0.0   \n",
       "5  VEHICLETYPE  25899       8   1001            NaN           NaN     NaN   \n",
       "6      GEARBOX  26396       2    504            NaN           NaN     NaN   \n",
       "7        MODEL  26381      18    519            NaN           NaN     NaN   \n",
       "8     FUELTYPE  25930       7    970            NaN           NaN     NaN   \n",
       "\n",
       "          max    median  25_percent_cont  25_percent_disc  50_percent_cont  \\\n",
       "0     26899.0   13450.0          6724.75           6724.0          13449.5   \n",
       "1      6200.0    2003.0          1999.00           1999.0           2003.0   \n",
       "2     20000.0     150.0           122.00            122.0            150.0   \n",
       "3    150000.0  150000.0        125000.00         125000.0         150000.0   \n",
       "4  14000500.0    6000.0          2800.00           2800.0           6000.0   \n",
       "5         NaN       NaN              NaN              NaN              NaN   \n",
       "6         NaN       NaN              NaN              NaN              NaN   \n",
       "7         NaN       NaN              NaN              NaN              NaN   \n",
       "8         NaN       NaN              NaN              NaN              NaN   \n",
       "\n",
       "   50_percent_disc  75_percent_cont  75_percent_disc  \n",
       "0          13449.0         20174.25          20174.0  \n",
       "1           2003.0          2008.00           2008.0  \n",
       "2            150.0           193.00            193.0  \n",
       "3         150000.0        150000.00         150000.0  \n",
       "4           6000.0         12887.25          12887.0  \n",
       "5              NaN              NaN              NaN  \n",
       "6              NaN              NaN              NaN  \n",
       "7              NaN              NaN              NaN  \n",
       "8              NaN              NaN              NaN  "
      ]
     },
     "execution_count": 27,
     "metadata": {},
     "output_type": "execute_result"
    }
   ],
   "source": [
    "df_remote.describe().collect()"
   ]
  },
  {
   "cell_type": "markdown",
   "metadata": {},
   "source": [
    "#### 데이터세트 통계 정보 SQL"
   ]
  },
  {
   "cell_type": "code",
   "execution_count": 28,
   "metadata": {},
   "outputs": [],
   "source": [
    "#df_remote.describe().select_statement"
   ]
  },
  {
   "cell_type": "markdown",
   "metadata": {},
   "source": [
    "#### MODEL 컬럼 별 count 집계하기"
   ]
  },
  {
   "cell_type": "code",
   "execution_count": 29,
   "metadata": {},
   "outputs": [
    {
     "data": {
      "text/html": [
       "<div>\n",
       "<style scoped>\n",
       "    .dataframe tbody tr th:only-of-type {\n",
       "        vertical-align: middle;\n",
       "    }\n",
       "\n",
       "    .dataframe tbody tr th {\n",
       "        vertical-align: top;\n",
       "    }\n",
       "\n",
       "    .dataframe thead th {\n",
       "        text-align: right;\n",
       "    }\n",
       "</style>\n",
       "<table border=\"1\" class=\"dataframe\">\n",
       "  <thead>\n",
       "    <tr style=\"text-align: right;\">\n",
       "      <th></th>\n",
       "      <th>MODEL</th>\n",
       "      <th>COUNT</th>\n",
       "    </tr>\n",
       "  </thead>\n",
       "  <tbody>\n",
       "    <tr>\n",
       "      <th>0</th>\n",
       "      <td>C-Class</td>\n",
       "      <td>6845</td>\n",
       "    </tr>\n",
       "    <tr>\n",
       "      <th>1</th>\n",
       "      <td>E-Class</td>\n",
       "      <td>5615</td>\n",
       "    </tr>\n",
       "    <tr>\n",
       "      <th>2</th>\n",
       "      <td>A-Class</td>\n",
       "      <td>3153</td>\n",
       "    </tr>\n",
       "    <tr>\n",
       "      <th>3</th>\n",
       "      <td>Other</td>\n",
       "      <td>2710</td>\n",
       "    </tr>\n",
       "    <tr>\n",
       "      <th>4</th>\n",
       "      <td>CLK</td>\n",
       "      <td>1447</td>\n",
       "    </tr>\n",
       "  </tbody>\n",
       "</table>\n",
       "</div>"
      ],
      "text/plain": [
       "     MODEL  COUNT\n",
       "0  C-Class   6845\n",
       "1  E-Class   5615\n",
       "2  A-Class   3153\n",
       "3    Other   2710\n",
       "4      CLK   1447"
      ]
     },
     "execution_count": 29,
     "metadata": {},
     "output_type": "execute_result"
    }
   ],
   "source": [
    "top_n = 5\n",
    "df_remote_col_frequency = df_remote.agg([('count', 'MODEL', 'COUNT')],  group_by = 'MODEL')\n",
    "df_col_frequency = df_remote_col_frequency.sort('COUNT', desc = True).head(top_n).collect()\n",
    "df_col_frequency"
   ]
  },
  {
   "cell_type": "markdown",
   "metadata": {},
   "source": [
    "#### MODEL 별 개수의 플롯"
   ]
  },
  {
   "cell_type": "code",
   "execution_count": 30,
   "metadata": {},
   "outputs": [
    {
     "data": {
      "image/png": "[encoded data removed]",
      "text/plain": [
       "<Figure size 432x288 with 1 Axes>"
      ]
     },
     "metadata": {
      "needs_background": "light"
     },
     "output_type": "display_data"
    }
   ],
   "source": [
    "%matplotlib inline\n",
    "df_col_frequency.plot.bar(x = 'MODEL',\n",
    "                          y = 'COUNT',\n",
    "                          title = 'Top ' + str(top_n));"
   ]
  },
  {
   "cell_type": "markdown",
   "metadata": {},
   "source": [
    "#### Python Seaborn 패키지 설치하기"
   ]
  },
  {
   "cell_type": "code",
   "execution_count": 31,
   "metadata": {},
   "outputs": [
    {
     "name": "stdout",
     "output_type": "stream",
     "text": [
      "Requirement already satisfied: seaborn in /opt/conda/lib/python3.7/site-packages (0.11.1)\n",
      "Requirement already satisfied: pandas>=0.23 in /opt/conda/lib/python3.7/site-packages (from seaborn) (1.1.5)\n",
      "Requirement already satisfied: numpy>=1.15 in /opt/conda/lib/python3.7/site-packages (from seaborn) (1.19.4)\n",
      "Requirement already satisfied: scipy>=1.0 in /opt/conda/lib/python3.7/site-packages (from seaborn) (1.6.3)\n",
      "Requirement already satisfied: matplotlib>=2.2 in /opt/conda/lib/python3.7/site-packages (from seaborn) (3.3.3)\n",
      "Requirement already satisfied: pytz>=2017.2 in /opt/conda/lib/python3.7/site-packages (from pandas>=0.23->seaborn) (2020.4)\n",
      "Requirement already satisfied: python-dateutil>=2.7.3 in /opt/conda/lib/python3.7/site-packages (from pandas>=0.23->seaborn) (2.8.1)\n",
      "Requirement already satisfied: pillow>=6.2.0 in /opt/conda/lib/python3.7/site-packages (from matplotlib>=2.2->seaborn) (8.0.1)\n",
      "Requirement already satisfied: pyparsing!=2.0.4,!=2.1.2,!=2.1.6,>=2.0.3 in /opt/conda/lib/python3.7/site-packages (from matplotlib>=2.2->seaborn) (2.4.7)\n",
      "Requirement already satisfied: cycler>=0.10 in /opt/conda/lib/python3.7/site-packages (from matplotlib>=2.2->seaborn) (0.10.0)\n",
      "Requirement already satisfied: kiwisolver>=1.0.1 in /opt/conda/lib/python3.7/site-packages (from matplotlib>=2.2->seaborn) (1.3.1)\n",
      "Requirement already satisfied: six>=1.5 in /opt/conda/lib/python3.7/site-packages (from python-dateutil>=2.7.3->pandas>=0.23->seaborn) (1.11.0)\n"
     ]
    }
   ],
   "source": [
    "!pip install seaborn"
   ]
  },
  {
   "cell_type": "markdown",
   "metadata": {},
   "source": [
    "#### 데이터세트의 학습 및 테스트 데이터 분리하기"
   ]
  },
  {
   "cell_type": "code",
   "execution_count": 32,
   "metadata": {},
   "outputs": [],
   "source": [
    "col_name_1 = 'PRICE'\n",
    "col_name_2 = 'YEAR'\n",
    "\n",
    "from hana_ml.algorithms.pal import partition\n",
    "df_remote_sample, df_remote_ignore1, df_remote_ignore2 = partition.train_test_val_split(\n",
    "                               data = df_remote, \n",
    "                               random_seed = 1972,\n",
    "                               training_percentage = 0.01,\n",
    "                               testing_percentage = 0.99,\n",
    "                               validation_percentage = 0)\n",
    "df_sample = df_remote_sample.select(col_name_1, col_name_2).collect()"
   ]
  },
  {
   "cell_type": "markdown",
   "metadata": {},
   "source": [
    "#### 조인트플롯"
   ]
  },
  {
   "cell_type": "code",
   "execution_count": 33,
   "metadata": {},
   "outputs": [
    {
     "data": {
      "image/png": "[encoded data removed]",
      "text/plain": [
       "<Figure size 432x432 with 3 Axes>"
      ]
     },
     "metadata": {
      "needs_background": "light"
     },
     "output_type": "display_data"
    }
   ],
   "source": [
    "%matplotlib inline\n",
    "import seaborn as sns\n",
    "sns.jointplot(x=col_name_1, y=col_name_2, data=df_sample);"
   ]
  },
  {
   "cell_type": "markdown",
   "metadata": {},
   "source": [
    "#### 데이터세트 선택하기 : YEAR >= 2000 & PRICE < 50000"
   ]
  },
  {
   "cell_type": "code",
   "execution_count": 34,
   "metadata": {},
   "outputs": [
    {
     "data": {
      "text/plain": [
       "18066"
      ]
     },
     "execution_count": 34,
     "metadata": {},
     "output_type": "execute_result"
    }
   ],
   "source": [
    "df_remote = df_remote.filter('YEAR >= 2000')\n",
    "df_remote = df_remote.filter('PRICE < 50000')\n",
    "df_remote = df_remote.dropna()\n",
    "df_remote.count()"
   ]
  },
  {
   "cell_type": "markdown",
   "metadata": {},
   "source": [
    "#### 상관 분석하기"
   ]
  },
  {
   "cell_type": "code",
   "execution_count": 35,
   "metadata": {},
   "outputs": [
    {
     "data": {
      "image/png": "[encoded data removed]",
      "text/plain": [
       "<Figure size 432x288 with 2 Axes>"
      ]
     },
     "metadata": {
      "needs_background": "light"
     },
     "output_type": "display_data"
    }
   ],
   "source": [
    "import matplotlib.pyplot as plt\n",
    "from hana_ml.visualizers.eda import EDAVisualizer\n",
    "f = plt.figure()\n",
    "ax1 = f.add_subplot(111) # 111 refers to 1x1 grid, 1st subplot\n",
    "eda = EDAVisualizer(ax1)\n",
    "ax, corr_data = eda.correlation_plot(data = df_remote.drop(['CAR_ID']),\n",
    "                                     cmap = 'coolwarm')"
   ]
  },
  {
   "cell_type": "markdown",
   "metadata": {},
   "source": [
    "#### PRICE 컬럼 데이터타입 변경하기"
   ]
  },
  {
   "cell_type": "code",
   "execution_count": 36,
   "metadata": {},
   "outputs": [],
   "source": [
    "df_remote = df_remote.cast('PRICE', 'DOUBLE')"
   ]
  },
  {
   "cell_type": "markdown",
   "metadata": {},
   "source": [
    "#### HANA View 생성하기"
   ]
  },
  {
   "cell_type": "code",
   "execution_count": 37,
   "metadata": {},
   "outputs": [
    {
     "data": {
      "text/plain": [
       "<hana_ml.dataframe.DataFrame at 0x7fe6fa0f1438>"
      ]
     },
     "execution_count": 37,
     "metadata": {},
     "output_type": "execute_result"
    }
   ],
   "source": [
    "df_remote.save(where = ('XA2664_01', 'USEDCARPRICES_PREPVIEW_TA99'), table_type = 'VIEW', force = True)"
   ]
  },
  {
   "cell_type": "markdown",
   "metadata": {},
   "source": [
    "#### HANA 세션 종료"
   ]
  },
  {
   "cell_type": "code",
   "execution_count": 38,
   "metadata": {},
   "outputs": [],
   "source": [
    "conn.close()"
   ]
  },
  {
   "cell_type": "markdown",
   "metadata": {},
   "source": [
    "#### "
   ]
  },
  {
   "cell_type": "markdown",
   "metadata": {},
   "source": [
    "## 3. M/L 모델 학습(Train ML model)"
   ]
  },
  {
   "cell_type": "markdown",
   "metadata": {},
   "source": [
    "#### HANA DB 세션 연결"
   ]
  },
  {
   "cell_type": "code",
   "execution_count": 39,
   "metadata": {},
   "outputs": [],
   "source": [
    "from notebook_hana_connector.notebook_hana_connector import NotebookConnectionContext\n",
    "conn = NotebookConnectionContext(connectionId = 'XA2648_HANA')"
   ]
  },
  {
   "cell_type": "markdown",
   "metadata": {},
   "source": [
    "#### 학습/테스트 데이터세트(HANA View)를 DataFrame으로 읽어들이기"
   ]
  },
  {
   "cell_type": "code",
   "execution_count": 40,
   "metadata": {},
   "outputs": [],
   "source": [
    "import hana_ml.dataframe as dataframe\n",
    "df_remote = conn.table(table = 'USEDCARPRICES_PREPVIEW_TA99', schema = 'XA2664_01')"
   ]
  },
  {
   "cell_type": "code",
   "execution_count": 41,
   "metadata": {},
   "outputs": [
    {
     "data": {
      "text/html": [
       "<div>\n",
       "<style scoped>\n",
       "    .dataframe tbody tr th:only-of-type {\n",
       "        vertical-align: middle;\n",
       "    }\n",
       "\n",
       "    .dataframe tbody tr th {\n",
       "        vertical-align: top;\n",
       "    }\n",
       "\n",
       "    .dataframe thead th {\n",
       "        text-align: right;\n",
       "    }\n",
       "</style>\n",
       "<table border=\"1\" class=\"dataframe\">\n",
       "  <thead>\n",
       "    <tr style=\"text-align: right;\">\n",
       "      <th></th>\n",
       "      <th>CAR_ID</th>\n",
       "      <th>VEHICLETYPE</th>\n",
       "      <th>YEAR</th>\n",
       "      <th>GEARBOX</th>\n",
       "      <th>HP</th>\n",
       "      <th>MODEL</th>\n",
       "      <th>KILOMETER</th>\n",
       "      <th>FUELTYPE</th>\n",
       "      <th>PRICE</th>\n",
       "    </tr>\n",
       "  </thead>\n",
       "  <tbody>\n",
       "    <tr>\n",
       "      <th>0</th>\n",
       "      <td>0</td>\n",
       "      <td>bus</td>\n",
       "      <td>2004</td>\n",
       "      <td>manual</td>\n",
       "      <td>102</td>\n",
       "      <td>A-Class</td>\n",
       "      <td>150000</td>\n",
       "      <td>petrol</td>\n",
       "      <td>1850.0</td>\n",
       "    </tr>\n",
       "    <tr>\n",
       "      <th>1</th>\n",
       "      <td>2</td>\n",
       "      <td>limousine</td>\n",
       "      <td>2004</td>\n",
       "      <td>automatic</td>\n",
       "      <td>122</td>\n",
       "      <td>E-Class</td>\n",
       "      <td>150000</td>\n",
       "      <td>diesel</td>\n",
       "      <td>3500.0</td>\n",
       "    </tr>\n",
       "    <tr>\n",
       "      <th>2</th>\n",
       "      <td>4</td>\n",
       "      <td>bus</td>\n",
       "      <td>2012</td>\n",
       "      <td>automatic</td>\n",
       "      <td>109</td>\n",
       "      <td>B-Class</td>\n",
       "      <td>150000</td>\n",
       "      <td>diesel</td>\n",
       "      <td>13500.0</td>\n",
       "    </tr>\n",
       "    <tr>\n",
       "      <th>3</th>\n",
       "      <td>5</td>\n",
       "      <td>kombi</td>\n",
       "      <td>2008</td>\n",
       "      <td>manual</td>\n",
       "      <td>156</td>\n",
       "      <td>C-Class</td>\n",
       "      <td>150000</td>\n",
       "      <td>petrol</td>\n",
       "      <td>7999.0</td>\n",
       "    </tr>\n",
       "    <tr>\n",
       "      <th>4</th>\n",
       "      <td>6</td>\n",
       "      <td>andere</td>\n",
       "      <td>2003</td>\n",
       "      <td>manual</td>\n",
       "      <td>82</td>\n",
       "      <td>Vito</td>\n",
       "      <td>150000</td>\n",
       "      <td>diesel</td>\n",
       "      <td>1400.0</td>\n",
       "    </tr>\n",
       "  </tbody>\n",
       "</table>\n",
       "</div>"
      ],
      "text/plain": [
       "   CAR_ID VEHICLETYPE  YEAR    GEARBOX   HP    MODEL  KILOMETER FUELTYPE  \\\n",
       "0       0         bus  2004     manual  102  A-Class     150000   petrol   \n",
       "1       2   limousine  2004  automatic  122  E-Class     150000   diesel   \n",
       "2       4         bus  2012  automatic  109  B-Class     150000   diesel   \n",
       "3       5       kombi  2008     manual  156  C-Class     150000   petrol   \n",
       "4       6      andere  2003     manual   82     Vito     150000   diesel   \n",
       "\n",
       "     PRICE  \n",
       "0   1850.0  \n",
       "1   3500.0  \n",
       "2  13500.0  \n",
       "3   7999.0  \n",
       "4   1400.0  "
      ]
     },
     "execution_count": 41,
     "metadata": {},
     "output_type": "execute_result"
    }
   ],
   "source": [
    "df_remote.head(n = 5).collect()"
   ]
  },
  {
   "cell_type": "markdown",
   "metadata": {},
   "source": [
    "#### 학습 및 테스트 데이터 분리하기 - 비율 70% : 30%"
   ]
  },
  {
   "cell_type": "code",
   "execution_count": 42,
   "metadata": {},
   "outputs": [],
   "source": [
    "from hana_ml.algorithms.pal import partition\n",
    "df_remote_train, df_remote_test, df_remote_ignore = partition.train_test_val_split(random_seed = 1972,\n",
    "                                                                                   data = df_remote, \n",
    "                                                                                   training_percentage = 0.7, \n",
    "                                                                                   testing_percentage = 0.3,\n",
    "                                                                                   validation_percentage = 0)"
   ]
  },
  {
   "cell_type": "code",
   "execution_count": 43,
   "metadata": {},
   "outputs": [
    {
     "name": "stdout",
     "output_type": "stream",
     "text": [
      "Size of training subset: 12646\n",
      "Size of test subset: 5420\n"
     ]
    }
   ],
   "source": [
    "print('Size of training subset: ' + str(df_remote_train.count()))\n",
    "print('Size of test subset: ' + str(df_remote_test.count()))"
   ]
  },
  {
   "cell_type": "markdown",
   "metadata": {},
   "source": [
    "#### 모델 생성하기"
   ]
  },
  {
   "cell_type": "code",
   "execution_count": 44,
   "metadata": {},
   "outputs": [],
   "source": [
    "from hana_ml.algorithms.pal import trees\n",
    "hgb_reg = trees.HybridGradientBoostingRegressor(random_state = 42,\n",
    "                                                n_estimators = 50,\n",
    "                                                max_depth = 5,\n",
    "                                                learning_rate = 0.3,\n",
    "                                                min_sample_weight_leaf = 1,\n",
    "                                                min_samples_leaf = 1,\n",
    "                                                lamb = 1,\n",
    "                                                alpha = 1)\n",
    "\n",
    "# Specify the model's predictors\n",
    "features = ['YEAR', 'HP', 'KILOMETER', 'VEHICLETYPE', 'GEARBOX', 'MODEL', 'FUELTYPE']\n",
    "\n",
    "# Train the model\n",
    "hgb_reg.fit(data = df_remote_train, \n",
    "            features = features, \n",
    "            key = \"CAR_ID\", \n",
    "            label = 'PRICE')"
   ]
  },
  {
   "cell_type": "markdown",
   "metadata": {},
   "source": [
    "#### 테스트 데이터세트에 대한 추론하기"
   ]
  },
  {
   "cell_type": "code",
   "execution_count": 45,
   "metadata": {},
   "outputs": [
    {
     "data": {
      "text/html": [
       "<div>\n",
       "<style scoped>\n",
       "    .dataframe tbody tr th:only-of-type {\n",
       "        vertical-align: middle;\n",
       "    }\n",
       "\n",
       "    .dataframe tbody tr th {\n",
       "        vertical-align: top;\n",
       "    }\n",
       "\n",
       "    .dataframe thead th {\n",
       "        text-align: right;\n",
       "    }\n",
       "</style>\n",
       "<table border=\"1\" class=\"dataframe\">\n",
       "  <thead>\n",
       "    <tr style=\"text-align: right;\">\n",
       "      <th></th>\n",
       "      <th>CAR_ID</th>\n",
       "      <th>MODEL</th>\n",
       "      <th>ACTUALS</th>\n",
       "      <th>PREDICTIONS</th>\n",
       "    </tr>\n",
       "  </thead>\n",
       "  <tbody>\n",
       "    <tr>\n",
       "      <th>0</th>\n",
       "      <td>4</td>\n",
       "      <td>B-Class</td>\n",
       "      <td>13500.0</td>\n",
       "      <td>11702.465048370219</td>\n",
       "    </tr>\n",
       "    <tr>\n",
       "      <th>1</th>\n",
       "      <td>5</td>\n",
       "      <td>C-Class</td>\n",
       "      <td>7999.0</td>\n",
       "      <td>10223.283673825445</td>\n",
       "    </tr>\n",
       "    <tr>\n",
       "      <th>2</th>\n",
       "      <td>6</td>\n",
       "      <td>Vito</td>\n",
       "      <td>1400.0</td>\n",
       "      <td>3262.1822525254606</td>\n",
       "    </tr>\n",
       "    <tr>\n",
       "      <th>3</th>\n",
       "      <td>7</td>\n",
       "      <td>Sprinter</td>\n",
       "      <td>5000.0</td>\n",
       "      <td>6720.255353675897</td>\n",
       "    </tr>\n",
       "    <tr>\n",
       "      <th>4</th>\n",
       "      <td>8</td>\n",
       "      <td>E-Class</td>\n",
       "      <td>20300.0</td>\n",
       "      <td>23611.732565428778</td>\n",
       "    </tr>\n",
       "  </tbody>\n",
       "</table>\n",
       "</div>"
      ],
      "text/plain": [
       "   CAR_ID     MODEL  ACTUALS         PREDICTIONS\n",
       "0       4   B-Class  13500.0  11702.465048370219\n",
       "1       5   C-Class   7999.0  10223.283673825445\n",
       "2       6      Vito   1400.0  3262.1822525254606\n",
       "3       7  Sprinter   5000.0   6720.255353675897\n",
       "4       8   E-Class  20300.0  23611.732565428778"
      ]
     },
     "execution_count": 45,
     "metadata": {},
     "output_type": "execute_result"
    }
   ],
   "source": [
    "df_remote_act_pred = df_remote_test.alias('L').join(\n",
    "    hgb_reg.predict(data = df_remote_test, features = features, key = 'CAR_ID').alias('R'),\n",
    "    'L.CAR_ID = R.CAR_ID', \n",
    "    select=[('L.CAR_ID', 'CAR_ID'), 'MODEL', ('PRICE','ACTUALS'), ('SCORE', 'PREDICTIONS')])\n",
    "df_remote_act_pred.head(5).collect()"
   ]
  },
  {
   "cell_type": "markdown",
   "metadata": {},
   "source": [
    "#### 모델 평가 메트릭 RMSE 구하기"
   ]
  },
  {
   "cell_type": "code",
   "execution_count": 46,
   "metadata": {},
   "outputs": [
    {
     "name": "stdout",
     "output_type": "stream",
     "text": [
      "RMSE: 2833.28\n"
     ]
    }
   ],
   "source": [
    "import numpy as np\n",
    "df_remote_se = df_remote_act_pred.select('CAR_ID',\n",
    "                                        'ACTUALS',\n",
    "                                        'PREDICTIONS',\n",
    "                                        ('(ACTUALS - PREDICTIONS) * (ACTUALS - PREDICTIONS) ', 'ERRORSQ'))\n",
    "df_mse = df_remote_se.agg([('avg', 'ERRORSQ', 'MSE')]).collect()\n",
    "rmse = np.sqrt(float(df_mse.iloc[0:,0]))\n",
    "print('RMSE: ' + str(round(rmse, 2)))"
   ]
  },
  {
   "cell_type": "markdown",
   "metadata": {},
   "source": [
    "#### 최고 성능 모델을 위한 하이퍼파라미터 구하기"
   ]
  },
  {
   "cell_type": "code",
   "execution_count": 47,
   "metadata": {},
   "outputs": [],
   "source": [
    "n_estimators = [10, 20, 30, 40, 50]\n",
    "max_depth = [2, 3, 4, 5, 6, 7, 8, 9, 10]"
   ]
  },
  {
   "cell_type": "code",
   "execution_count": 48,
   "metadata": {},
   "outputs": [
    {
     "name": "stdout",
     "output_type": "stream",
     "text": [
      "n_estimators:  10  | max_depth:  2\n",
      "RMSE on test data: 3944.12\n",
      "\n",
      "n_estimators:  10  | max_depth:  3\n",
      "RMSE on test data: 3563.14\n",
      "\n",
      "n_estimators:  10  | max_depth:  4\n",
      "RMSE on test data: 3272.14\n",
      "\n",
      "n_estimators:  10  | max_depth:  5\n",
      "RMSE on test data: 3120.39\n",
      "\n",
      "n_estimators:  10  | max_depth:  6\n",
      "RMSE on test data: 2959.72\n",
      "\n",
      "n_estimators:  10  | max_depth:  7\n",
      "RMSE on test data: 2897.04\n",
      "\n",
      "n_estimators:  10  | max_depth:  8\n",
      "RMSE on test data: 2863.55\n",
      "\n",
      "n_estimators:  10  | max_depth:  9\n",
      "RMSE on test data: 2877.63\n",
      "\n",
      "n_estimators:  10  | max_depth:  10\n",
      "RMSE on test data: 2882.59\n",
      "\n",
      "n_estimators:  20  | max_depth:  2\n",
      "RMSE on test data: 3424.22\n",
      "\n",
      "n_estimators:  20  | max_depth:  3\n",
      "RMSE on test data: 3191.77\n",
      "\n",
      "n_estimators:  20  | max_depth:  4\n",
      "RMSE on test data: 3042.67\n",
      "\n",
      "n_estimators:  20  | max_depth:  5\n",
      "RMSE on test data: 2921.59\n",
      "\n",
      "n_estimators:  20  | max_depth:  6\n",
      "RMSE on test data: 2797.49\n",
      "\n",
      "n_estimators:  20  | max_depth:  7\n",
      "RMSE on test data: 2762.14\n",
      "\n",
      "n_estimators:  20  | max_depth:  8\n",
      "RMSE on test data: 2785.13\n",
      "\n",
      "n_estimators:  20  | max_depth:  9\n",
      "RMSE on test data: 2834.37\n",
      "\n",
      "n_estimators:  20  | max_depth:  10\n",
      "RMSE on test data: 2815.94\n",
      "\n",
      "n_estimators:  30  | max_depth:  2\n",
      "RMSE on test data: 3289.58\n",
      "\n",
      "n_estimators:  30  | max_depth:  3\n",
      "RMSE on test data: 3099.65\n",
      "\n",
      "n_estimators:  30  | max_depth:  4\n",
      "RMSE on test data: 2965.78\n",
      "\n",
      "n_estimators:  30  | max_depth:  5\n",
      "RMSE on test data: 2887.31\n",
      "\n",
      "n_estimators:  30  | max_depth:  6\n",
      "RMSE on test data: 2775.32\n",
      "\n",
      "n_estimators:  30  | max_depth:  7\n",
      "RMSE on test data: 2752.42\n",
      "\n",
      "n_estimators:  30  | max_depth:  8\n",
      "RMSE on test data: 2786.99\n",
      "\n",
      "n_estimators:  30  | max_depth:  9\n",
      "RMSE on test data: 2840.32\n",
      "\n",
      "n_estimators:  30  | max_depth:  10\n",
      "RMSE on test data: 2847.16\n",
      "\n",
      "n_estimators:  40  | max_depth:  2\n",
      "RMSE on test data: 3197.31\n",
      "\n",
      "n_estimators:  40  | max_depth:  3\n",
      "RMSE on test data: 3036.44\n",
      "\n",
      "n_estimators:  40  | max_depth:  4\n",
      "RMSE on test data: 2929.72\n",
      "\n",
      "n_estimators:  40  | max_depth:  5\n",
      "RMSE on test data: 2850.02\n",
      "\n",
      "n_estimators:  40  | max_depth:  6\n",
      "RMSE on test data: 2769.92\n",
      "\n",
      "n_estimators:  40  | max_depth:  7\n",
      "RMSE on test data: 2761.07\n",
      "\n",
      "n_estimators:  40  | max_depth:  8\n",
      "RMSE on test data: 2784.94\n",
      "\n",
      "n_estimators:  40  | max_depth:  9\n",
      "RMSE on test data: 2869.7\n",
      "\n",
      "n_estimators:  40  | max_depth:  10\n",
      "RMSE on test data: 2882.74\n",
      "\n",
      "n_estimators:  50  | max_depth:  2\n",
      "RMSE on test data: 3140.65\n",
      "\n",
      "n_estimators:  50  | max_depth:  3\n",
      "RMSE on test data: 2986.02\n",
      "\n",
      "n_estimators:  50  | max_depth:  4\n",
      "RMSE on test data: 2906.93\n",
      "\n",
      "n_estimators:  50  | max_depth:  5\n",
      "RMSE on test data: 2835.61\n",
      "\n",
      "n_estimators:  50  | max_depth:  6\n",
      "RMSE on test data: 2744.92\n",
      "\n",
      "n_estimators:  50  | max_depth:  7\n",
      "RMSE on test data: 2767.39\n",
      "\n",
      "n_estimators:  50  | max_depth:  8\n",
      "RMSE on test data: 2807.82\n",
      "\n",
      "n_estimators:  50  | max_depth:  9\n",
      "RMSE on test data: 2900.34\n",
      "\n",
      "n_estimators:  50  | max_depth:  10\n",
      "RMSE on test data: 2918.12\n",
      "\n",
      "Done\n"
     ]
    }
   ],
   "source": [
    "import pandas as pd\n",
    "from math import sqrt\n",
    "from sapdi import tracking\n",
    "\n",
    "# Dataframe to store hyperparameters with model quality\n",
    "df_hyper_quality = pd.DataFrame(columns=['N_ESTIMATORS', 'MAX_DEPTH', 'RMSE'])\n",
    "\n",
    "# Iterate through all parameter combinations\n",
    "from hana_ml.algorithms.pal import trees\n",
    "for aa in n_estimators:\n",
    "    for bb in max_depth:\n",
    "        hgb_reg = trees.HybridGradientBoostingRegressor(#conn_context=conn,\n",
    "                                                random_state = 42,\n",
    "                                                min_samples_leaf = 1,\n",
    "                                                n_estimators = aa,\n",
    "                                                max_depth = bb)\n",
    "\n",
    "        # Train the regression with the current parameters\n",
    "        hgb_reg.fit(data = df_remote_train, \n",
    "                       features = features, \n",
    "                       key = \"CAR_ID\", \n",
    "                       label = 'PRICE')\n",
    "        \n",
    "        # Evaluate the model on the test data\n",
    "        df_remote_act_pred = df_remote_test.alias('L').join(\n",
    "                                hgb_reg.predict(data = df_remote_test, features = features, key = 'CAR_ID').alias('R'),\n",
    "                                'L.CAR_ID = R.CAR_ID', \n",
    "                                select=[('L.CAR_ID', 'CAR_ID'), ('PRICE','ACTUALS'), ('\"SCORE\"', 'PREDICTIONS')])\n",
    "        df_remote_se = df_remote_act_pred.select('CAR_ID',\n",
    "                                                     'ACTUALS',\n",
    "                                                     'PREDICTIONS',\n",
    "                                                     ('(ACTUALS - PREDICTIONS) * (ACTUALS - PREDICTIONS) ', 'ERRORSQ'))\n",
    "        df_mse = df_remote_se.agg([('avg', 'ERRORSQ', 'MSE')]).collect()\n",
    "        rmse = np.sqrt(float(df_mse.iloc[0:,0]))\n",
    "        \n",
    "        # Print a status update\n",
    "        print('n_estimators: ', aa, ' | max_depth: ', bb)\n",
    "        print('RMSE on test data: ' + str(round(rmse, 2)))\n",
    "        print()\n",
    "        \n",
    "        # Add the parameters and the RMSE to the collection in Python\n",
    "        df_hyper_quality = df_hyper_quality.append({'N_ESTIMATORS': aa,\n",
    "                                                    'MAX_DEPTH': bb,\n",
    "                                                    'RMSE': rmse},\n",
    "                                                    ignore_index = True)\n",
    "        \n",
    "        # Add the parameters and RMSE to the ML Scenario\n",
    "        run = tracking.start_run(run_collection_name=\"Car price experiments\")\n",
    "        tracking.log_parameters({\"n_estimators\": aa,\n",
    "                                 \"max_depth\": bb})\n",
    "        tracking.log_metrics({\"RMSE\": rmse})\n",
    "        tracking.end_run()        \n",
    "        \n",
    "print('Done')"
   ]
  },
  {
   "cell_type": "code",
   "execution_count": 49,
   "metadata": {},
   "outputs": [
    {
     "data": {
      "text/html": [
       "<div>\n",
       "<style scoped>\n",
       "    .dataframe tbody tr th:only-of-type {\n",
       "        vertical-align: middle;\n",
       "    }\n",
       "\n",
       "    .dataframe tbody tr th {\n",
       "        vertical-align: top;\n",
       "    }\n",
       "\n",
       "    .dataframe thead th {\n",
       "        text-align: right;\n",
       "    }\n",
       "</style>\n",
       "<table border=\"1\" class=\"dataframe\">\n",
       "  <thead>\n",
       "    <tr style=\"text-align: right;\">\n",
       "      <th></th>\n",
       "      <th>N_ESTIMATORS</th>\n",
       "      <th>MAX_DEPTH</th>\n",
       "      <th>RMSE</th>\n",
       "    </tr>\n",
       "  </thead>\n",
       "  <tbody>\n",
       "    <tr>\n",
       "      <th>40</th>\n",
       "      <td>50.0</td>\n",
       "      <td>6.0</td>\n",
       "      <td>2744.919082</td>\n",
       "    </tr>\n",
       "    <tr>\n",
       "      <th>23</th>\n",
       "      <td>30.0</td>\n",
       "      <td>7.0</td>\n",
       "      <td>2752.417993</td>\n",
       "    </tr>\n",
       "    <tr>\n",
       "      <th>32</th>\n",
       "      <td>40.0</td>\n",
       "      <td>7.0</td>\n",
       "      <td>2761.070329</td>\n",
       "    </tr>\n",
       "    <tr>\n",
       "      <th>14</th>\n",
       "      <td>20.0</td>\n",
       "      <td>7.0</td>\n",
       "      <td>2762.138731</td>\n",
       "    </tr>\n",
       "    <tr>\n",
       "      <th>41</th>\n",
       "      <td>50.0</td>\n",
       "      <td>7.0</td>\n",
       "      <td>2767.386140</td>\n",
       "    </tr>\n",
       "  </tbody>\n",
       "</table>\n",
       "</div>"
      ],
      "text/plain": [
       "    N_ESTIMATORS  MAX_DEPTH         RMSE\n",
       "40          50.0        6.0  2744.919082\n",
       "23          30.0        7.0  2752.417993\n",
       "32          40.0        7.0  2761.070329\n",
       "14          20.0        7.0  2762.138731\n",
       "41          50.0        7.0  2767.386140"
      ]
     },
     "execution_count": 49,
     "metadata": {},
     "output_type": "execute_result"
    }
   ],
   "source": [
    "df_hyper_quality.sort_values(by = 'RMSE', ascending = True).head(5)"
   ]
  },
  {
   "cell_type": "markdown",
   "metadata": {},
   "source": [
    "#### 최적의 하이퍼파라미터로 모델 생성하기 "
   ]
  },
  {
   "cell_type": "code",
   "execution_count": 50,
   "metadata": {},
   "outputs": [],
   "source": [
    "hgb_reg = trees.HybridGradientBoostingRegressor(random_state = 42,\n",
    "                                                min_samples_leaf = 1,\n",
    "                                                n_estimators = 50,\n",
    "                                                max_depth = 5)\n",
    "hgb_reg.fit(data = df_remote_train, \n",
    "            features = features, \n",
    "            key = \"CAR_ID\", \n",
    "            label = 'PRICE')"
   ]
  },
  {
   "cell_type": "code",
   "execution_count": 51,
   "metadata": {},
   "outputs": [
    {
     "data": {
      "text/html": [
       "<div>\n",
       "<style scoped>\n",
       "    .dataframe tbody tr th:only-of-type {\n",
       "        vertical-align: middle;\n",
       "    }\n",
       "\n",
       "    .dataframe tbody tr th {\n",
       "        vertical-align: top;\n",
       "    }\n",
       "\n",
       "    .dataframe thead th {\n",
       "        text-align: right;\n",
       "    }\n",
       "</style>\n",
       "<table border=\"1\" class=\"dataframe\">\n",
       "  <thead>\n",
       "    <tr style=\"text-align: right;\">\n",
       "      <th></th>\n",
       "      <th>CAR_ID</th>\n",
       "      <th>MODEL</th>\n",
       "      <th>ACTUALS</th>\n",
       "      <th>PREDICTIONS</th>\n",
       "    </tr>\n",
       "  </thead>\n",
       "  <tbody>\n",
       "    <tr>\n",
       "      <th>0</th>\n",
       "      <td>4</td>\n",
       "      <td>B-Class</td>\n",
       "      <td>13500.0</td>\n",
       "      <td>11702.483725396289</td>\n",
       "    </tr>\n",
       "    <tr>\n",
       "      <th>1</th>\n",
       "      <td>5</td>\n",
       "      <td>C-Class</td>\n",
       "      <td>7999.0</td>\n",
       "      <td>10223.282544495501</td>\n",
       "    </tr>\n",
       "    <tr>\n",
       "      <th>2</th>\n",
       "      <td>6</td>\n",
       "      <td>Vito</td>\n",
       "      <td>1400.0</td>\n",
       "      <td>3262.178933430203</td>\n",
       "    </tr>\n",
       "    <tr>\n",
       "      <th>3</th>\n",
       "      <td>7</td>\n",
       "      <td>Sprinter</td>\n",
       "      <td>5000.0</td>\n",
       "      <td>6720.256257233489</td>\n",
       "    </tr>\n",
       "    <tr>\n",
       "      <th>4</th>\n",
       "      <td>8</td>\n",
       "      <td>E-Class</td>\n",
       "      <td>20300.0</td>\n",
       "      <td>23611.73041065052</td>\n",
       "    </tr>\n",
       "  </tbody>\n",
       "</table>\n",
       "</div>"
      ],
      "text/plain": [
       "   CAR_ID     MODEL  ACTUALS         PREDICTIONS\n",
       "0       4   B-Class  13500.0  11702.483725396289\n",
       "1       5   C-Class   7999.0  10223.282544495501\n",
       "2       6      Vito   1400.0   3262.178933430203\n",
       "3       7  Sprinter   5000.0   6720.256257233489\n",
       "4       8   E-Class  20300.0   23611.73041065052"
      ]
     },
     "execution_count": 51,
     "metadata": {},
     "output_type": "execute_result"
    }
   ],
   "source": [
    "df_remote_act_pred = df_remote_test.alias('L').join(\n",
    "    hgb_reg.predict(data = df_remote_test, features = features, key = 'CAR_ID').alias('R'),\n",
    "    'L.CAR_ID = R.CAR_ID', \n",
    "    select=[('L.CAR_ID', 'CAR_ID'), 'MODEL', ('PRICE','ACTUALS'), ('SCORE', 'PREDICTIONS')])\n",
    "df_remote_act_pred.head(5).collect()"
   ]
  },
  {
   "cell_type": "markdown",
   "metadata": {},
   "source": [
    "#### 모델 성능 지표"
   ]
  },
  {
   "cell_type": "code",
   "execution_count": 52,
   "metadata": {},
   "outputs": [
    {
     "name": "stdout",
     "output_type": "stream",
     "text": [
      "RMSE: 2835.61\n"
     ]
    }
   ],
   "source": [
    "import numpy as np\n",
    "df_remote_se = df_remote_act_pred.select('CAR_ID',\n",
    "                                             'ACTUALS',\n",
    "                                             'PREDICTIONS',\n",
    "                                             'MODEL',\n",
    "                                             ('(ACTUALS - PREDICTIONS) * (ACTUALS - PREDICTIONS) ', 'ERRORSQ'))\n",
    "df_mse = df_remote_se.agg([('avg', 'ERRORSQ', 'MSE')]).collect()\n",
    "rmse = np.sqrt(float(df_mse.iloc[0:,0]))\n",
    "print('RMSE: ' + str(round(rmse, 2)))"
   ]
  },
  {
   "cell_type": "markdown",
   "metadata": {},
   "source": [
    "#### 차량 모델 별 모델 성능 지료"
   ]
  },
  {
   "cell_type": "code",
   "execution_count": 53,
   "metadata": {},
   "outputs": [
    {
     "data": {
      "text/html": [
       "<div>\n",
       "<style scoped>\n",
       "    .dataframe tbody tr th:only-of-type {\n",
       "        vertical-align: middle;\n",
       "    }\n",
       "\n",
       "    .dataframe tbody tr th {\n",
       "        vertical-align: top;\n",
       "    }\n",
       "\n",
       "    .dataframe thead th {\n",
       "        text-align: right;\n",
       "    }\n",
       "</style>\n",
       "<table border=\"1\" class=\"dataframe\">\n",
       "  <thead>\n",
       "    <tr style=\"text-align: right;\">\n",
       "      <th></th>\n",
       "      <th>MODEL</th>\n",
       "      <th>MSE</th>\n",
       "      <th>RMSE</th>\n",
       "    </tr>\n",
       "  </thead>\n",
       "  <tbody>\n",
       "    <tr>\n",
       "      <th>7</th>\n",
       "      <td>A-Class</td>\n",
       "      <td>2.790386e+06</td>\n",
       "      <td>1670.444906</td>\n",
       "    </tr>\n",
       "    <tr>\n",
       "      <th>1</th>\n",
       "      <td>C-Class</td>\n",
       "      <td>4.355905e+06</td>\n",
       "      <td>2087.080532</td>\n",
       "    </tr>\n",
       "    <tr>\n",
       "      <th>0</th>\n",
       "      <td>B-Class</td>\n",
       "      <td>4.591800e+06</td>\n",
       "      <td>2142.848487</td>\n",
       "    </tr>\n",
       "    <tr>\n",
       "      <th>2</th>\n",
       "      <td>Vito</td>\n",
       "      <td>6.258489e+06</td>\n",
       "      <td>2501.697186</td>\n",
       "    </tr>\n",
       "    <tr>\n",
       "      <th>5</th>\n",
       "      <td>SLK</td>\n",
       "      <td>6.279180e+06</td>\n",
       "      <td>2505.829162</td>\n",
       "    </tr>\n",
       "    <tr>\n",
       "      <th>9</th>\n",
       "      <td>CLK</td>\n",
       "      <td>8.183236e+06</td>\n",
       "      <td>2860.635535</td>\n",
       "    </tr>\n",
       "    <tr>\n",
       "      <th>10</th>\n",
       "      <td>GLK</td>\n",
       "      <td>8.215748e+06</td>\n",
       "      <td>2866.312681</td>\n",
       "    </tr>\n",
       "    <tr>\n",
       "      <th>4</th>\n",
       "      <td>E-Class</td>\n",
       "      <td>8.387084e+06</td>\n",
       "      <td>2896.046245</td>\n",
       "    </tr>\n",
       "    <tr>\n",
       "      <th>3</th>\n",
       "      <td>Sprinter</td>\n",
       "      <td>1.340327e+07</td>\n",
       "      <td>3661.047571</td>\n",
       "    </tr>\n",
       "    <tr>\n",
       "      <th>12</th>\n",
       "      <td>Other</td>\n",
       "      <td>1.356537e+07</td>\n",
       "      <td>3683.118933</td>\n",
       "    </tr>\n",
       "    <tr>\n",
       "      <th>6</th>\n",
       "      <td>M-Class</td>\n",
       "      <td>1.403857e+07</td>\n",
       "      <td>3746.807428</td>\n",
       "    </tr>\n",
       "    <tr>\n",
       "      <th>16</th>\n",
       "      <td>CL</td>\n",
       "      <td>1.427473e+07</td>\n",
       "      <td>3778.191036</td>\n",
       "    </tr>\n",
       "    <tr>\n",
       "      <th>13</th>\n",
       "      <td>V-Class</td>\n",
       "      <td>1.457586e+07</td>\n",
       "      <td>3817.834961</td>\n",
       "    </tr>\n",
       "    <tr>\n",
       "      <th>11</th>\n",
       "      <td>S-Class</td>\n",
       "      <td>1.711337e+07</td>\n",
       "      <td>4136.830381</td>\n",
       "    </tr>\n",
       "    <tr>\n",
       "      <th>8</th>\n",
       "      <td>Viano</td>\n",
       "      <td>2.013457e+07</td>\n",
       "      <td>4487.156163</td>\n",
       "    </tr>\n",
       "    <tr>\n",
       "      <th>14</th>\n",
       "      <td>GL</td>\n",
       "      <td>2.579984e+07</td>\n",
       "      <td>5079.354647</td>\n",
       "    </tr>\n",
       "    <tr>\n",
       "      <th>15</th>\n",
       "      <td>SL</td>\n",
       "      <td>4.245431e+07</td>\n",
       "      <td>6515.697416</td>\n",
       "    </tr>\n",
       "    <tr>\n",
       "      <th>17</th>\n",
       "      <td>G-Class</td>\n",
       "      <td>9.512899e+07</td>\n",
       "      <td>9753.408938</td>\n",
       "    </tr>\n",
       "  </tbody>\n",
       "</table>\n",
       "</div>"
      ],
      "text/plain": [
       "       MODEL           MSE         RMSE\n",
       "7    A-Class  2.790386e+06  1670.444906\n",
       "1    C-Class  4.355905e+06  2087.080532\n",
       "0    B-Class  4.591800e+06  2142.848487\n",
       "2       Vito  6.258489e+06  2501.697186\n",
       "5        SLK  6.279180e+06  2505.829162\n",
       "9        CLK  8.183236e+06  2860.635535\n",
       "10       GLK  8.215748e+06  2866.312681\n",
       "4    E-Class  8.387084e+06  2896.046245\n",
       "3   Sprinter  1.340327e+07  3661.047571\n",
       "12     Other  1.356537e+07  3683.118933\n",
       "6    M-Class  1.403857e+07  3746.807428\n",
       "16        CL  1.427473e+07  3778.191036\n",
       "13   V-Class  1.457586e+07  3817.834961\n",
       "11   S-Class  1.711337e+07  4136.830381\n",
       "8      Viano  2.013457e+07  4487.156163\n",
       "14        GL  2.579984e+07  5079.354647\n",
       "15        SL  4.245431e+07  6515.697416\n",
       "17   G-Class  9.512899e+07  9753.408938"
      ]
     },
     "execution_count": 53,
     "metadata": {},
     "output_type": "execute_result"
    }
   ],
   "source": [
    "df_mse = df_remote_se.agg([('avg', 'ERRORSQ', 'MSE')], group_by = ['MODEL']).collect()\n",
    "df_mse['RMSE'] = np.sqrt(df_mse['MSE'])\n",
    "df_mse.sort_values(by = ['RMSE'], ascending = True)"
   ]
  },
  {
   "cell_type": "markdown",
   "metadata": {},
   "source": [
    "#### 모델 저장하기"
   ]
  },
  {
   "cell_type": "code",
   "execution_count": 54,
   "metadata": {},
   "outputs": [],
   "source": [
    "from hana_ml.model_storage import ModelStorage\n",
    "MODEL_SCHEMA = 'XA2664_01' # HANA schema in which models are to be saved\n",
    "model_storage = ModelStorage(connection_context=conn, schema = MODEL_SCHEMA)\n",
    "hgb_reg.name = 'Car Price Est Model TA99'\n",
    "model_storage.save_model(model=hgb_reg, if_exists = 'replace')"
   ]
  },
  {
   "cell_type": "markdown",
   "metadata": {},
   "source": [
    "#### 모델 목록 출력하기"
   ]
  },
  {
   "cell_type": "code",
   "execution_count": 55,
   "metadata": {},
   "outputs": [
    {
     "data": {
      "text/html": [
       "<div>\n",
       "<style scoped>\n",
       "    .dataframe tbody tr th:only-of-type {\n",
       "        vertical-align: middle;\n",
       "    }\n",
       "\n",
       "    .dataframe tbody tr th {\n",
       "        vertical-align: top;\n",
       "    }\n",
       "\n",
       "    .dataframe thead th {\n",
       "        text-align: right;\n",
       "    }\n",
       "</style>\n",
       "<table border=\"1\" class=\"dataframe\">\n",
       "  <thead>\n",
       "    <tr style=\"text-align: right;\">\n",
       "      <th></th>\n",
       "      <th>NAME</th>\n",
       "      <th>VERSION</th>\n",
       "      <th>LIBRARY</th>\n",
       "      <th>CLASS</th>\n",
       "      <th>JSON</th>\n",
       "      <th>TIMESTAMP</th>\n",
       "      <th>MODEL_STORAGE_VER</th>\n",
       "    </tr>\n",
       "  </thead>\n",
       "  <tbody>\n",
       "    <tr>\n",
       "      <th>0</th>\n",
       "      <td>Bank Marketing Model TA99</td>\n",
       "      <td>1</td>\n",
       "      <td>APL</td>\n",
       "      <td>hana_ml.algorithms.apl.gradient_boosting_class...</td>\n",
       "      <td>{\"model_attributes\": {\"name\": \"Bank Marketing ...</td>\n",
       "      <td>2021-05-11 13:28:29</td>\n",
       "      <td>1</td>\n",
       "    </tr>\n",
       "    <tr>\n",
       "      <th>1</th>\n",
       "      <td>Car Price Est Model TA99</td>\n",
       "      <td>1</td>\n",
       "      <td>PAL</td>\n",
       "      <td>hana_ml.algorithms.pal.trees.HybridGradientBoo...</td>\n",
       "      <td>{\"model_attributes\": {\"n_estimators\": 50, \"ran...</td>\n",
       "      <td>2021-05-12 13:28:46</td>\n",
       "      <td>1</td>\n",
       "    </tr>\n",
       "  </tbody>\n",
       "</table>\n",
       "</div>"
      ],
      "text/plain": [
       "                        NAME  VERSION LIBRARY  \\\n",
       "0  Bank Marketing Model TA99        1     APL   \n",
       "1   Car Price Est Model TA99        1     PAL   \n",
       "\n",
       "                                               CLASS  \\\n",
       "0  hana_ml.algorithms.apl.gradient_boosting_class...   \n",
       "1  hana_ml.algorithms.pal.trees.HybridGradientBoo...   \n",
       "\n",
       "                                                JSON           TIMESTAMP  \\\n",
       "0  {\"model_attributes\": {\"name\": \"Bank Marketing ... 2021-05-11 13:28:29   \n",
       "1  {\"model_attributes\": {\"n_estimators\": 50, \"ran... 2021-05-12 13:28:46   \n",
       "\n",
       "   MODEL_STORAGE_VER  \n",
       "0                  1  \n",
       "1                  1  "
      ]
     },
     "execution_count": 55,
     "metadata": {},
     "output_type": "execute_result"
    }
   ],
   "source": [
    "model_storage.list_models()"
   ]
  },
  {
   "cell_type": "markdown",
   "metadata": {},
   "source": [
    "#### HANA DB 세션 종료"
   ]
  },
  {
   "cell_type": "code",
   "execution_count": 56,
   "metadata": {},
   "outputs": [],
   "source": [
    "conn.close()"
   ]
  },
  {
   "cell_type": "markdown",
   "metadata": {},
   "source": [
    "#### "
   ]
  },
  {
   "cell_type": "markdown",
   "metadata": {},
   "source": [
    "## 4. M/L 모델 추론(Apply ML model)"
   ]
  },
  {
   "cell_type": "markdown",
   "metadata": {},
   "source": [
    "#### HANA DB 세션 연결"
   ]
  },
  {
   "cell_type": "code",
   "execution_count": 57,
   "metadata": {},
   "outputs": [],
   "source": [
    "from notebook_hana_connector.notebook_hana_connector import NotebookConnectionContext\n",
    "conn = NotebookConnectionContext(connectionId = 'XA2648_HANA')"
   ]
  },
  {
   "cell_type": "markdown",
   "metadata": {},
   "source": [
    "#### 모델 읽기"
   ]
  },
  {
   "cell_type": "code",
   "execution_count": 58,
   "metadata": {},
   "outputs": [],
   "source": [
    "from hana_ml.model_storage import ModelStorage\n",
    "MODEL_SCHEMA = 'XA2664_01' # HANA schema in which models are to be saved\n",
    "model_storage = ModelStorage(connection_context=conn, schema = MODEL_SCHEMA)\n",
    "model_name = 'Car Price Est Model TA99'\n",
    "hgb_reg_saved = model_storage.load_model(name=model_name, version=1)"
   ]
  },
  {
   "cell_type": "markdown",
   "metadata": {},
   "source": [
    "#### 신규 차량 데이터세트"
   ]
  },
  {
   "cell_type": "code",
   "execution_count": 59,
   "metadata": {},
   "outputs": [
    {
     "data": {
      "text/html": [
       "<div>\n",
       "<style scoped>\n",
       "    .dataframe tbody tr th:only-of-type {\n",
       "        vertical-align: middle;\n",
       "    }\n",
       "\n",
       "    .dataframe tbody tr th {\n",
       "        vertical-align: top;\n",
       "    }\n",
       "\n",
       "    .dataframe thead th {\n",
       "        text-align: right;\n",
       "    }\n",
       "</style>\n",
       "<table border=\"1\" class=\"dataframe\">\n",
       "  <thead>\n",
       "    <tr style=\"text-align: right;\">\n",
       "      <th></th>\n",
       "      <th>CAR_ID</th>\n",
       "      <th>VEHICLETYPE</th>\n",
       "      <th>YEAR</th>\n",
       "      <th>GEARBOX</th>\n",
       "      <th>HP</th>\n",
       "      <th>MODEL</th>\n",
       "      <th>KILOMETER</th>\n",
       "      <th>FUELTYPE</th>\n",
       "    </tr>\n",
       "  </thead>\n",
       "  <tbody>\n",
       "    <tr>\n",
       "      <th>0</th>\n",
       "      <td>1</td>\n",
       "      <td>coupe</td>\n",
       "      <td>2006</td>\n",
       "      <td>manual</td>\n",
       "      <td>232</td>\n",
       "      <td>CLK</td>\n",
       "      <td>50000</td>\n",
       "      <td>petrol</td>\n",
       "    </tr>\n",
       "    <tr>\n",
       "      <th>1</th>\n",
       "      <td>2</td>\n",
       "      <td>coupe</td>\n",
       "      <td>2006</td>\n",
       "      <td>manual</td>\n",
       "      <td>232</td>\n",
       "      <td>CLK</td>\n",
       "      <td>150000</td>\n",
       "      <td>petrol</td>\n",
       "    </tr>\n",
       "  </tbody>\n",
       "</table>\n",
       "</div>"
      ],
      "text/plain": [
       "   CAR_ID VEHICLETYPE  YEAR GEARBOX   HP MODEL  KILOMETER FUELTYPE\n",
       "0       1       coupe  2006  manual  232   CLK      50000   petrol\n",
       "1       2       coupe  2006  manual  232   CLK     150000   petrol"
      ]
     },
     "execution_count": 59,
     "metadata": {},
     "output_type": "execute_result"
    }
   ],
   "source": [
    "# Create HANA dataframe for the table that holds the data for prediction\n",
    "df_pushdown_new = conn.table(\"USEDCARPRICES_TOPREDICT_TA99\", schema=\"XA2664_01\")\n",
    "df_pushdown_new.head(3).collect()"
   ]
  },
  {
   "cell_type": "markdown",
   "metadata": {},
   "source": [
    "#### 신규 차량 데이터세트에 대한 가격 예측"
   ]
  },
  {
   "cell_type": "code",
   "execution_count": 60,
   "metadata": {},
   "outputs": [
    {
     "data": {
      "text/html": [
       "<div>\n",
       "<style scoped>\n",
       "    .dataframe tbody tr th:only-of-type {\n",
       "        vertical-align: middle;\n",
       "    }\n",
       "\n",
       "    .dataframe tbody tr th {\n",
       "        vertical-align: top;\n",
       "    }\n",
       "\n",
       "    .dataframe thead th {\n",
       "        text-align: right;\n",
       "    }\n",
       "</style>\n",
       "<table border=\"1\" class=\"dataframe\">\n",
       "  <thead>\n",
       "    <tr style=\"text-align: right;\">\n",
       "      <th></th>\n",
       "      <th>CAR_ID</th>\n",
       "      <th>SCORE</th>\n",
       "    </tr>\n",
       "  </thead>\n",
       "  <tbody>\n",
       "    <tr>\n",
       "      <th>0</th>\n",
       "      <td>1</td>\n",
       "      <td>16505.63738796052</td>\n",
       "    </tr>\n",
       "    <tr>\n",
       "      <th>1</th>\n",
       "      <td>2</td>\n",
       "      <td>11949.231341638377</td>\n",
       "    </tr>\n",
       "  </tbody>\n",
       "</table>\n",
       "</div>"
      ],
      "text/plain": [
       "   CAR_ID               SCORE\n",
       "0       1   16505.63738796052\n",
       "1       2  11949.231341638377"
      ]
     },
     "execution_count": 60,
     "metadata": {},
     "output_type": "execute_result"
    }
   ],
   "source": [
    "features = [\"VEHICLETYPE\", \"YEAR\", \"GEARBOX\", \"HP\", \"MODEL\", \"KILOMETER\", \"FUELTYPE\"]\n",
    "#features = ['YEAR', 'HP', 'KILOMETER', 'VEHICLETYPE', 'GEARBOX', 'MODEL', 'FUELTYPE']\n",
    "df_predict = hgb_reg_saved.predict(df_pushdown_new, features=features, key=\"CAR_ID\").select(\"CAR_ID\", \"SCORE\").collect()\n",
    "df_predict"
   ]
  },
  {
   "cell_type": "markdown",
   "metadata": {},
   "source": [
    "#### 신규 차량 데이터의 가격 예측에 대한 플롯"
   ]
  },
  {
   "cell_type": "code",
   "execution_count": 61,
   "metadata": {},
   "outputs": [
    {
     "data": {
      "image/png": "[encoded data removed]",
      "text/plain": [
       "<Figure size 432x288 with 1 Axes>"
      ]
     },
     "metadata": {
      "needs_background": "light"
     },
     "output_type": "display_data"
    }
   ],
   "source": [
    "import pandas as pd\n",
    "df_predict[\"SCORE\"] = pd.to_numeric(df_predict[\"SCORE\"])\n",
    "df_predict['CAR_ID'] = df_predict['CAR_ID'].astype(str)\n",
    "df_predict.plot.bar(x=\"CAR_ID\", y=\"SCORE\", title=\"Estimated Price\");"
   ]
  },
  {
   "cell_type": "markdown",
   "metadata": {},
   "source": [
    "#### 신규 데이터세트에 대한 결과(예측) 테이블 생성하기"
   ]
  },
  {
   "cell_type": "code",
   "execution_count": 62,
   "metadata": {},
   "outputs": [
    {
     "data": {
      "text/plain": [
       "<hana_ml.dataframe.DataFrame at 0x7fe6f98712b0>"
      ]
     },
     "execution_count": 62,
     "metadata": {},
     "output_type": "execute_result"
    }
   ],
   "source": [
    "hgb_reg_saved.predict(df_pushdown_new, features=features, key=\"CAR_ID\").save(where=(\"XA2664_01\", \"USEDCARPRICES_PREDICTED_TA99\"), table_type=\"COLUMN\")"
   ]
  },
  {
   "cell_type": "markdown",
   "metadata": {},
   "source": [
    "#### HANA DB 세션 종료"
   ]
  },
  {
   "cell_type": "code",
   "execution_count": 63,
   "metadata": {},
   "outputs": [],
   "source": [
    "conn.close()"
   ]
  },
  {
   "cell_type": "markdown",
   "metadata": {},
   "source": [
    "#### "
   ]
  },
  {
   "cell_type": "code",
   "execution_count": null,
   "metadata": {},
   "outputs": [],
   "source": []
  }
 ],
 "metadata": {
  "createdAt": "2021-05-03T04:35:27Z",
  "createdBy": "xa1999-09",
  "description": "HANA PAL",
  "kernelspec": {
   "display_name": "Python 3",
   "language": "python",
   "name": "python3"
  },
  "language_info": {
   "codemirror_mode": {
    "name": "ipython",
    "version": 3
   },
   "file_extension": ".py",
   "mimetype": "text/x-python",
   "name": "python",
   "nbconvert_exporter": "python",
   "pygments_lexer": "ipython3",
   "version": "3.7.3"
  },
  "modifiedAt": "2021-05-03T04:35:27Z",
  "modifiedBy": "xa1999-09",
  "name": "200 Car Price Estimate Model",
  "scenarioId": "23fc6f36-abcc-426e-915b-8d1e1706a9c6"
 },
 "nbformat": 4,
 "nbformat_minor": 4
}
